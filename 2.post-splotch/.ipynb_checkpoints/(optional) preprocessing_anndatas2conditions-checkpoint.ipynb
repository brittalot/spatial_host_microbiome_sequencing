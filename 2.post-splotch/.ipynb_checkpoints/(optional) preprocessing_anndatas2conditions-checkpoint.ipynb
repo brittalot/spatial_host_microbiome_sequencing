{
 "cells": [
  {
   "cell_type": "markdown",
   "metadata": {},
   "source": [
    "Make anndatas per conditions (this is used as backup -- not currently part of processing) "
   ]
  },
  {
   "cell_type": "code",
   "execution_count": null,
   "metadata": {},
   "outputs": [],
   "source": [
    "import pandas as pd\n",
    "import os\n",
    "import numpy as np\n",
    "import random\n",
    "import itertools\n",
    "from collections import Counter\n",
    "import scanpy as sc\n",
    "import pickle"
   ]
  },
  {
   "cell_type": "markdown",
   "metadata": {},
   "source": [
    "Read in anndata with normalized expression ie. lambdas"
   ]
  },
  {
   "cell_type": "code",
   "execution_count": 23,
   "metadata": {},
   "outputs": [],
   "source": [
    "a = sc.read_h5ad('/home/sanjavickovic/data/st_data/anndata_colons_norm_all.h5ad')"
   ]
  },
  {
   "cell_type": "code",
   "execution_count": 24,
   "metadata": {},
   "outputs": [],
   "source": [
    "'Make unique conditions currently present in the dataset'\n",
    "regions = list(np.unique([str(i) for i in a.obs.Region]))\n",
    "ages = list(np.unique([str(i) for i in a.obs.Age]))\n",
    "conditions = []\n",
    "for i in regions:\n",
    "    for h in ages:\n",
    "        conditions.append(i+\"_\"+h)"
   ]
  },
  {
   "cell_type": "code",
   "execution_count": 25,
   "metadata": {},
   "outputs": [],
   "source": [
    "'Subset anndatas as into modules script'\n",
    "st_data_per_condition = dict()\n",
    "st_regions_per_condition = dict()\n",
    "coordinates = dict()\n",
    "for c in conditions:\n",
    "    a_copy = a[a.obs.conditions == c]\n",
    "    a_copy.write(os.path.join('/home/sanjavickovic/data/st_data/', c+\"_anndata_norm_all.h5ad\"))\n",
    "    \n",
    "    # gets values\n",
    "    st_data_per_condition[c] = a_copy.X.T\n",
    "    \n",
    "    #gets regions\n",
    "    st_regions_per_condition[c] = a_copy.obs['annotation'].tolist()\n",
    "    \n",
    "    # gets coordiantes per image\n",
    "    ind_coordinates = dict()\n",
    "    for i in np.unique(a_copy.obs['sample']):\n",
    "        a_sample = a_copy[a_copy.obs['sample'] == i]\n",
    "        ind_coordinates[str(i)] = np.array([[float(i.split(\"_\")[2]),float(i.split(\"_\")[3])] for i in a_sample.obs.index])\n",
    "    coordinates[c] = ind_coordinates\n",
    "with open('/home/sanjavickovic/data/st_data/st_data_per_condition_all.pickle', 'wb') as handle:\n",
    "    pickle.dump(st_data_per_condition, handle, protocol=pickle.HIGHEST_PROTOCOL)\n",
    "with open('/home/sanjavickovic/data/st_data/st_regions_per_condition_all.pickle', 'wb') as handle:\n",
    "    pickle.dump(st_regions_per_condition, handle, protocol=pickle.HIGHEST_PROTOCOL)\n",
    "with open('/home/sanjavickovic/data/st_data/st_coordinates_per_condition_all.pkl', 'wb') as handle:\n",
    "    pickle.dump(coordinates, handle, protocol=pickle.HIGHEST_PROTOCOL)"
   ]
  },
  {
   "cell_type": "code",
   "execution_count": null,
   "metadata": {},
   "outputs": [],
   "source": []
  },
  {
   "cell_type": "code",
   "execution_count": null,
   "metadata": {},
   "outputs": [],
   "source": []
  },
  {
   "cell_type": "code",
   "execution_count": null,
   "metadata": {},
   "outputs": [],
   "source": []
  },
  {
   "cell_type": "code",
   "execution_count": null,
   "metadata": {},
   "outputs": [],
   "source": []
  },
  {
   "cell_type": "code",
   "execution_count": null,
   "metadata": {},
   "outputs": [],
   "source": []
  },
  {
   "cell_type": "code",
   "execution_count": null,
   "metadata": {},
   "outputs": [],
   "source": []
  },
  {
   "cell_type": "code",
   "execution_count": null,
   "metadata": {},
   "outputs": [],
   "source": []
  },
  {
   "cell_type": "code",
   "execution_count": null,
   "metadata": {},
   "outputs": [],
   "source": []
  },
  {
   "cell_type": "code",
   "execution_count": null,
   "metadata": {},
   "outputs": [],
   "source": []
  },
  {
   "cell_type": "code",
   "execution_count": null,
   "metadata": {},
   "outputs": [],
   "source": []
  },
  {
   "cell_type": "code",
   "execution_count": null,
   "metadata": {},
   "outputs": [],
   "source": []
  },
  {
   "cell_type": "code",
   "execution_count": null,
   "metadata": {},
   "outputs": [],
   "source": []
  },
  {
   "cell_type": "code",
   "execution_count": null,
   "metadata": {},
   "outputs": [],
   "source": []
  },
  {
   "cell_type": "code",
   "execution_count": null,
   "metadata": {},
   "outputs": [],
   "source": []
  },
  {
   "cell_type": "code",
   "execution_count": null,
   "metadata": {},
   "outputs": [],
   "source": []
  }
 ],
 "metadata": {
  "kernelspec": {
   "display_name": "Python 3",
   "language": "python",
   "name": "python3"
  },
  "language_info": {
   "codemirror_mode": {
    "name": "ipython",
    "version": 3
   },
   "file_extension": ".py",
   "mimetype": "text/x-python",
   "name": "python",
   "nbconvert_exporter": "python",
   "pygments_lexer": "ipython3",
   "version": "3.7.8"
  }
 },
 "nbformat": 4,
 "nbformat_minor": 4
}
