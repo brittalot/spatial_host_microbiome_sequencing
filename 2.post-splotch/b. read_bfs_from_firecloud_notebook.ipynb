{
 "cells": [
  {
   "cell_type": "code",
   "execution_count": 8,
   "metadata": {},
   "outputs": [],
   "source": [
    "import os\n",
    "import pandas as pd\n",
    "import numpy as np\n",
    "from numpy import inf\n",
    "import sys"
   ]
  },
  {
   "cell_type": "code",
   "execution_count": 43,
   "metadata": {},
   "outputs": [],
   "source": [
    "def filter_BFs(st_spec):\n",
    "    \n",
    "    \"\"\"\n",
    "    A function that filters the BF files from cloud\n",
    "    # \n",
    "    # Inputs:\n",
    "    #    st_spec             - BF data frame\n",
    "    #    ST_top_gene_dict   - A pd.DataFrame with fields: age_1, age_2, region_1, region_2, AAR1, AAR2, logsBFs (list), Delta (list), genes (list)  \n",
    "\n",
    "\n",
    "    \"\"\"\n",
    "    #print(st_spec.head())\n",
    "    # do some renaming\n",
    "    st_spec = st_spec[st_spec['BF'] != inf]\n",
    "\n",
    "    # Log10 BF\n",
    "    st_spec['BF'] = np.float64(st_spec['BF'])\n",
    "    x = np.log(st_spec['BF'])\n",
    "    x[x == -inf] = sys.float_info.min # makes sure no inf\n",
    "    x[x == inf] = sys.float_info.max # makes sure no inf\n",
    "    st_spec['logBF'] = x\n",
    "    #print(st_spec['condition_1'].unique())\n",
    "    #print(st_spec['condition_2'].unique())\n",
    "    # rename gene names\n",
    "    st_spec['gene_new'] = [i.split(\"_\")[0] for i in st_spec['gene']]\n",
    "    st_spec['age_1'] = [i.split(\" \")[0] for i in st_spec['condition_1']]\n",
    "    st_spec['region_1'] = [i.split(\" \")[1] for i in st_spec['condition_1']]\n",
    "    st_spec['age_2'] = [i.split(\" \")[0] for i in st_spec['condition_2']]\n",
    "    st_spec['region_2'] = [i.split(\" \")[1] for i in st_spec['condition_2']]\n",
    "    #print('done clean up')\n",
    "    ## Top 100 ST genes per condition and per region\n",
    "    ST_top_gene_dict = pd.DataFrame(columns = ['age_1', 'age_2', 'region_1', 'region_2', 'AAR1', 'AAR2', 'genes', 'logBFs', 'Delta'])\n",
    "    counter = 0\n",
    "    df_group = st_spec.groupby(['age_1', 'age_2', 'region_1', 'region_2', 'AAR1', 'AAR2'])\n",
    "    for label, dfs in df_group: # this is for splotch_one_level\n",
    "\n",
    "        # this gets genes super specific against the whole rest of the datset\n",
    "\n",
    "        #if (label[5] == 'Rest'):\n",
    "\n",
    "        #print(counter)\n",
    "\n",
    "        #dfs = df[(df['logBF'] > 2) & (df['Delta'] > 0)]\n",
    "        #dfs = df[(df['Delta'] > 0)]\n",
    "        #dfs = df\n",
    "        #print(df.sort_values(by='logBF', ascending=False)['gene_new'].head(5).tolist())\n",
    "        if (len(dfs.sort_values(by='logBF', ascending=False)['gene_new'].head(5).tolist()) == 0):\n",
    "            continue\n",
    "\n",
    "        ST_top_gene_dict.at[counter, 'age_1'] = label[0]\n",
    "        ST_top_gene_dict.at[counter, 'age_2'] = label[1]\n",
    "        ST_top_gene_dict.at[counter, 'region_1'] = label[2]\n",
    "        ST_top_gene_dict.at[counter, 'region_2'] = label[3]\n",
    "        ST_top_gene_dict.at[counter, 'AAR1'] = label[4]\n",
    "        ST_top_gene_dict.at[counter, 'AAR2'] = label[5]\n",
    "        ST_top_gene_dict.at[counter, 'genes'] = dfs.sort_values(by=['logBF', 'Delta'], ascending=[False, False])['gene_new'].head(250).tolist()\n",
    "        ST_top_gene_dict.at[counter, 'logBFs'] = dfs.sort_values(by=['logBF', 'Delta'], ascending=[False, False])['logBF'].head(250).tolist()\n",
    "        ST_top_gene_dict.at[counter, 'Delta'] = dfs.sort_values(by=['logBF', 'Delta'], ascending=[False, False])['Delta'].head(250).tolist()\n",
    "        counter += 1\n",
    "    \n",
    "    return ST_top_gene_dict"
   ]
  },
  {
   "cell_type": "code",
   "execution_count": 13,
   "metadata": {},
   "outputs": [],
   "source": [
    "%%capture cap_out --no-stderr\n",
    "#!gsutil ls gs://fc-2e7e9da8-0b98-4a74-a1ed-61c5ba5a13a4/3c779645-2301-4389-a0d3-da5f554e148a/splotch_diff_exp_workflow/a3bf8b06-c212-49b7-883d-8a96072c8a02/call-diff_exp/ \n",
    "!gsutil ls gs://fc-2e7e9da8-0b98-4a74-a1ed-61c5ba5a13a4/432aaa8c-bc18-48c3-ab68-6359ee309769/splotch_diff_exp_workflow/9665d171-c25e-4bab-9232-4efd111c371d/call-diff_exp/*/input_dir/analysis_output/BF-beta_df_output.tsv"
   ]
  },
  {
   "cell_type": "code",
   "execution_count": 14,
   "metadata": {},
   "outputs": [],
   "source": [
    "shards = [i for i in cap_out.stdout.split(\"\\r\\n\")]"
   ]
  },
  {
   "cell_type": "code",
   "execution_count": 20,
   "metadata": {},
   "outputs": [],
   "source": [
    "%%capture cap_out --no-stderr\n",
    "!gsutil ls gs://fc-2e7e9da8-0b98-4a74-a1ed-61c5ba5a13a4/432aaa8c-bc18-48c3-ab68-6359ee309769/splotch_diff_exp_workflow/9665d171-c25e-4bab-9232-4efd111c371d/call-diff_exp/*/attempt*/input_dir/analysis_output/BF-beta_df_output.tsv\n",
    "    \n",
    "    \n"
   ]
  },
  {
   "cell_type": "code",
   "execution_count": 21,
   "metadata": {},
   "outputs": [],
   "source": [
    "shards_attempts = [i for i in cap_out.stdout.split(\"\\r\\n\")]"
   ]
  },
  {
   "cell_type": "code",
   "execution_count": 24,
   "metadata": {},
   "outputs": [],
   "source": [
    "shards_final = shards + shards_attempts"
   ]
  },
  {
   "cell_type": "code",
   "execution_count": 25,
   "metadata": {
    "scrolled": true
   },
   "outputs": [
    {
     "name": "stdout",
     "output_type": "stream",
     "text": [
      "gs://fc-2e7e9da8-0b98-4a74-a1ed-61c5ba5a13a4/432aaa8c-bc18-48c3-ab68-6359ee309769/splotch_diff_exp_workflow/9665d171-c25e-4bab-9232-4efd111c371d/call-diff_exp/shard-0/input_dir/analysis_output/BF-beta_df_output.tsv\n",
      "Copying gs://fc-2e7e9da8-0b98-4a74-a1ed-61c5ba5a13a4/432aaa8c-bc18-48c3-ab68-6359ee309769/splotch_diff_exp_workflow/9665d171-c25e-4bab-9232-4efd111c371d/call-diff_exp/shard-0/input_dir/analysis_output/BF-beta_df_output.tsv...\n",
      "==> NOTE: You are downloading one or more large file(s), which would            \n",
      "run significantly faster if you enabled sliced object downloads. This\n",
      "feature is enabled by default but requires that compiled crcmod be\n",
      "installed (see \"gsutil help crcmod\").\n",
      "\n",
      "/ [1/1 files][700.8 MiB/700.8 MiB] 100% Done                                    \n",
      "Operation completed over 1 objects/700.8 MiB.                                    \n"
     ]
    }
   ],
   "source": [
    "path = '/home/sanjavickovic/python_runs'\n",
    "\n",
    "df_bf = pd.DataFrame([])\n",
    "for shard in shards_final:\n",
    "    \n",
    "    if shard.startswith('gs://fc'):\n",
    "        \n",
    "    #check file names\n",
    "        filename = shard\n",
    "        \n",
    "        print(filename)\n",
    "        output_filename = os.path.join(path, 'bf.tsv')\n",
    "\n",
    "        # copy file due to access permissions\n",
    "        !gsutil -m cp $filename $output_filename\n",
    "        !gzip $output_filename\n",
    "\n",
    "        # read in as pandas and filter\n",
    "        bf_tmp = pd.read_csv(output_filename+\".gz\", compression='gzip', header=0, sep='\\t', quotechar='\"', error_bad_lines=False, index_col=0)\n",
    "        bf_tmp['BF'] = bf_tmp['BF'].astype(float)\n",
    "        bf_tmp['Delta'] = bf_tmp['Delta'].astype(float)\n",
    "        bf_tmp = bf_tmp[(bf_tmp['BF']>2) & (bf_tmp['Delta']>0)]\n",
    "\n",
    "        # append to larger df\n",
    "        df_bf = df_bf.append(bf_tmp,ignore_index=True)\n",
    "\n",
    "        # delete file from memory \n",
    "        output_filename = output_filename+\".gz\"\n",
    "        !rm $output_filename\n"
   ]
  },
  {
   "cell_type": "code",
   "execution_count": 36,
   "metadata": {},
   "outputs": [
    {
     "name": "stdout",
     "output_type": "stream",
     "text": [
      "                 gene           condition_1         condition_2        AAR1  \\\n",
      "0  0610007P14Rik_1442  12w BL6WT.Proximal M  2yr BL6WT.Middle F  crypt apex   \n",
      "1  0610007P14Rik_1442    12w BL6WT.Distal M  2yr BL6WT.Middle F  crypt apex   \n",
      "2  0610007P14Rik_1442   3w BL6WT.Proximal F  2yr BL6WT.Middle F  crypt apex   \n",
      "3  0610007P14Rik_1442     3w BL6WT.Middle F  2yr BL6WT.Middle F  crypt apex   \n",
      "4  0610007P14Rik_1442     6w BL6WT.Middle F  2yr BL6WT.Middle F  crypt apex   \n",
      "\n",
      "         AAR2         BF     Delta  \\\n",
      "0  crypt apex   3.157051  0.634437   \n",
      "1  crypt apex   4.419036  0.683694   \n",
      "2  crypt apex   5.964412  0.552041   \n",
      "3  crypt apex   4.662538  0.459751   \n",
      "4  crypt apex  34.111819  0.474198   \n",
      "\n",
      "                                           Samples_1  \\\n",
      "0  [-0.5319189999999999, -0.505155, -0.347624, -0...   \n",
      "1  [-0.476041, -0.358795, -0.41092799999999996, -...   \n",
      "2  [-0.358349, -0.36698200000000003, -0.750993999...   \n",
      "3  [-0.718244, -0.593104, -0.6721699999999999, -0...   \n",
      "4  [-0.6346649999999999, -0.62008, -0.67625, -0.6...   \n",
      "\n",
      "                                           Samples_2  \n",
      "0  [-1.06798, -1.09609, -1.1090799999999998, -1.0...  \n",
      "1  [-1.06798, -1.09609, -1.1090799999999998, -1.0...  \n",
      "2  [-1.06798, -1.09609, -1.1090799999999998, -1.0...  \n",
      "3  [-1.06798, -1.09609, -1.1090799999999998, -1.0...  \n",
      "4  [-1.06798, -1.09609, -1.1090799999999998, -1.0...  \n"
     ]
    },
    {
     "name": "stderr",
     "output_type": "stream",
     "text": [
      "/home/sanjavickovic/miniconda3/envs/stenv3/lib/python3.7/site-packages/ipykernel_launcher.py:17: SettingWithCopyWarning: \n",
      "A value is trying to be set on a copy of a slice from a DataFrame.\n",
      "Try using .loc[row_indexer,col_indexer] = value instead\n",
      "\n",
      "See the caveats in the documentation: https://pandas.pydata.org/pandas-docs/stable/user_guide/indexing.html#returning-a-view-versus-a-copy\n",
      "/home/sanjavickovic/miniconda3/envs/stenv3/lib/python3.7/site-packages/ipykernel_launcher.py:21: SettingWithCopyWarning: \n",
      "A value is trying to be set on a copy of a slice from a DataFrame.\n",
      "Try using .loc[row_indexer,col_indexer] = value instead\n",
      "\n",
      "See the caveats in the documentation: https://pandas.pydata.org/pandas-docs/stable/user_guide/indexing.html#returning-a-view-versus-a-copy\n",
      "/home/sanjavickovic/miniconda3/envs/stenv3/lib/python3.7/site-packages/ipykernel_launcher.py:25: SettingWithCopyWarning: \n",
      "A value is trying to be set on a copy of a slice from a DataFrame.\n",
      "Try using .loc[row_indexer,col_indexer] = value instead\n",
      "\n",
      "See the caveats in the documentation: https://pandas.pydata.org/pandas-docs/stable/user_guide/indexing.html#returning-a-view-versus-a-copy\n",
      "/home/sanjavickovic/miniconda3/envs/stenv3/lib/python3.7/site-packages/ipykernel_launcher.py:26: SettingWithCopyWarning: \n",
      "A value is trying to be set on a copy of a slice from a DataFrame.\n",
      "Try using .loc[row_indexer,col_indexer] = value instead\n",
      "\n",
      "See the caveats in the documentation: https://pandas.pydata.org/pandas-docs/stable/user_guide/indexing.html#returning-a-view-versus-a-copy\n",
      "/home/sanjavickovic/miniconda3/envs/stenv3/lib/python3.7/site-packages/ipykernel_launcher.py:27: SettingWithCopyWarning: \n",
      "A value is trying to be set on a copy of a slice from a DataFrame.\n",
      "Try using .loc[row_indexer,col_indexer] = value instead\n",
      "\n",
      "See the caveats in the documentation: https://pandas.pydata.org/pandas-docs/stable/user_guide/indexing.html#returning-a-view-versus-a-copy\n",
      "/home/sanjavickovic/miniconda3/envs/stenv3/lib/python3.7/site-packages/ipykernel_launcher.py:28: SettingWithCopyWarning: \n",
      "A value is trying to be set on a copy of a slice from a DataFrame.\n",
      "Try using .loc[row_indexer,col_indexer] = value instead\n",
      "\n",
      "See the caveats in the documentation: https://pandas.pydata.org/pandas-docs/stable/user_guide/indexing.html#returning-a-view-versus-a-copy\n",
      "/home/sanjavickovic/miniconda3/envs/stenv3/lib/python3.7/site-packages/ipykernel_launcher.py:29: SettingWithCopyWarning: \n",
      "A value is trying to be set on a copy of a slice from a DataFrame.\n",
      "Try using .loc[row_indexer,col_indexer] = value instead\n",
      "\n",
      "See the caveats in the documentation: https://pandas.pydata.org/pandas-docs/stable/user_guide/indexing.html#returning-a-view-versus-a-copy\n"
     ]
    }
   ],
   "source": [
    "ST_top_gene_dict = filter_BFs(df_bf)"
   ]
  },
  {
   "cell_type": "code",
   "execution_count": 27,
   "metadata": {},
   "outputs": [],
   "source": [
    "expand_ages_dict = {\n",
    "    '0d' : '0w',\n",
    "    '1w' : '1w',\n",
    "    '2w' : '2w',\n",
    "    '3w' : '3w',\n",
    "    '4w' : '4w',\n",
    "    '6w' : '6w',\n",
    "    '8w' : '8w',\n",
    "    '12w' : '12w',\n",
    "    '6m' : '26w',\n",
    "    '1yr' : '52w',\n",
    "    '2yr' : '104w'\n",
    "}"
   ]
  },
  {
   "cell_type": "code",
   "execution_count": 41,
   "metadata": {},
   "outputs": [],
   "source": [
    "ST_top_gene_dict['region_1'] = [i.replace(\"BL6WT.\", \"\") for i in ST_top_gene_dict['region_1']]\n",
    "ST_top_gene_dict['region_2'] = [i.replace(\"BL6WT.\", \"\") for i in ST_top_gene_dict['region_2']]"
   ]
  },
  {
   "cell_type": "code",
   "execution_count": 42,
   "metadata": {},
   "outputs": [],
   "source": [
    "ST_top_gene_dict['age_1'] = ST_top_gene_dict['age_1'].map(expand_ages_dict)\n",
    "ST_top_gene_dict['age_2'] = ST_top_gene_dict['age_2'].map(expand_ages_dict)"
   ]
  },
  {
   "cell_type": "code",
   "execution_count": 21,
   "metadata": {},
   "outputs": [],
   "source": [
    "# Saves formated DE genes df\n",
    "#ST_top_gene_dict.to_csv(os.path.join(path, 'ST_top_gene_dict.csv'))"
   ]
  },
  {
   "cell_type": "code",
   "execution_count": null,
   "metadata": {},
   "outputs": [],
   "source": []
  },
  {
   "cell_type": "code",
   "execution_count": null,
   "metadata": {},
   "outputs": [],
   "source": []
  }
 ],
 "metadata": {
  "kernelspec": {
   "display_name": "Python 3",
   "language": "python",
   "name": "python3"
  },
  "language_info": {
   "codemirror_mode": {
    "name": "ipython",
    "version": 3
   },
   "file_extension": ".py",
   "mimetype": "text/x-python",
   "name": "python",
   "nbconvert_exporter": "python",
   "pygments_lexer": "ipython3",
   "version": "3.7.8"
  }
 },
 "nbformat": 4,
 "nbformat_minor": 4
}
