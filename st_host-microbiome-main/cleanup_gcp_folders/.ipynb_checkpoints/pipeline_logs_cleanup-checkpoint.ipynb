{
 "cells": [
  {
   "cell_type": "markdown",
   "metadata": {},
   "source": [
    "\n",
    "### runs on stenv3"
   ]
  },
  {
   "cell_type": "code",
   "execution_count": 7,
   "metadata": {},
   "outputs": [],
   "source": [
    "import os\n",
    "import sys\n",
    "import glob\n",
    "import scanpy as sc\n",
    "import numpy as np"
   ]
  },
  {
   "cell_type": "markdown",
   "metadata": {},
   "source": [
    "### Reads in all fastq file names on gcp"
   ]
  },
  {
   "cell_type": "code",
   "execution_count": 25,
   "metadata": {},
   "outputs": [],
   "source": [
    "%%capture cap_out --no-stderr\n",
    "!gsutil ls gs://fc-17b85933-14fb-4c4d-937e-e928f8ea53b1/pipeline_logs/ | cut -d '/' -f 5 \n",
    "fastqs = [i for i in cap_out.stdout.split(\"\\r\\n\")]\n",
    "fastqs_samples = [j[0]+\"_\"+j[-1] for j in [i.split(\"_\")[0:2] for i in fastqs]]"
   ]
  },
  {
   "cell_type": "code",
   "execution_count": 26,
   "metadata": {},
   "outputs": [
    {
     "data": {
      "text/plain": [
       "380"
      ]
     },
     "execution_count": 26,
     "metadata": {},
     "output_type": "execute_result"
    }
   ],
   "source": [
    "len(fastqs_samples)-1"
   ]
  },
  {
   "cell_type": "markdown",
   "metadata": {},
   "source": [
    "### Reads in expression file"
   ]
  },
  {
   "cell_type": "code",
   "execution_count": 33,
   "metadata": {
    "scrolled": false
   },
   "outputs": [],
   "source": [
    "# Load Lambda pmean df\n",
    "path = '/home/sanjavickovic/data/st_data'\n",
    "\n",
    "# Read expression file\n",
    "filename = os.path.join(path, 'anndata_colons_norm_metagenes_submodules_celltypes_kegg_degenes_pheno.h5ad')  \n",
    "st_splotch_pd = sc.read_h5ad(filename)"
   ]
  },
  {
   "cell_type": "markdown",
   "metadata": {},
   "source": [
    "### Checks if any extra files deposited on GCP and deletes those"
   ]
  },
  {
   "cell_type": "code",
   "execution_count": 27,
   "metadata": {},
   "outputs": [],
   "source": [
    "for sam in np.unique(fastqs_samples[0:len(fastqs_samples)-1]):\n",
    "    if not sam in np.unique(list(st_splotch_pd.obs['sample'])):\n",
    "        #print(\"not ok\")\n",
    "        print(sam)\n",
    "        dels = [x for x in fastqs if sam in x]\n",
    "        fname_r1 = 'gs://fc-17b85933-14fb-4c4d-937e-e928f8ea53b1/pipeline_logs/'+dels[0]\n",
    "        !gsutil rm $fname_r1"
   ]
  },
  {
   "cell_type": "code",
   "execution_count": 40,
   "metadata": {},
   "outputs": [],
   "source": [
    "%%capture cap_out --no-stderr\n",
    "!gsutil ls gs://fc-17b85933-14fb-4c4d-937e-e928f8ea53b1/pipeline_logs/ | cut -d '/' -f 5 \n",
    "fastqs = [i for i in cap_out.stdout.split(\"\\r\\n\")]\n",
    "fastqs_samples = [j[0]+\"_\"+j[-1] for j in [i.split(\"_\")[0:2] for i in fastqs]]"
   ]
  },
  {
   "cell_type": "markdown",
   "metadata": {},
   "source": [
    "### Checks if any files are missing on GCP"
   ]
  },
  {
   "cell_type": "code",
   "execution_count": 41,
   "metadata": {},
   "outputs": [
    {
     "name": "stdout",
     "output_type": "stream",
     "text": [
      "10015CN104_C1\n",
      "10015CN104_E1\n",
      "10015CN104_E2\n",
      "10015CN105_C2\n",
      "10015CN105_D1\n",
      "10015CN105_D2\n"
     ]
    }
   ],
   "source": [
    "for sam in np.unique(list(st_splotch_pd.obs['sample'])):\n",
    "    if not sam in np.unique(fastqs_samples[0:len(fastqs_samples)-1]):\n",
    "        dels = [x for x in fastqs if not sam in x]\n",
    "\n",
    "        print(sam)\n",
    "        \n",
    "# copy any files outputed here to gcp for storage"
   ]
  },
  {
   "cell_type": "code",
   "execution_count": 14,
   "metadata": {},
   "outputs": [],
   "source": [
    "%%capture cap_out --no-stderr\n",
    "!gsutil ls gs://fc-17b85933-14fb-4c4d-937e-e928f8ea53b1/pipeline_logs/ | cut -d '/' -f 5 \n",
    "fastqs = [i for i in cap_out.stdout.split(\"\\r\\n\")]\n",
    "fastqs_samples = [j[0]+\"_\"+j[-1] for j in [i.split(\"_\")[0:2] for i in fastqs]]"
   ]
  },
  {
   "cell_type": "code",
   "execution_count": 20,
   "metadata": {},
   "outputs": [
    {
     "ename": "AssertionError",
     "evalue": "",
     "output_type": "error",
     "traceback": [
      "\u001b[0;31m---------------------------------------------------------------------------\u001b[0m",
      "\u001b[0;31mAssertionError\u001b[0m                            Traceback (most recent call last)",
      "\u001b[0;32m<ipython-input-20-efd34662e6b4>\u001b[0m in \u001b[0;36m<module>\u001b[0;34m()\u001b[0m\n\u001b[0;32m----> 1\u001b[0;31m \u001b[0;32massert\u001b[0m\u001b[0;34m(\u001b[0m\u001b[0;34m(\u001b[0m\u001b[0mlen\u001b[0m\u001b[0;34m(\u001b[0m\u001b[0mnp\u001b[0m\u001b[0;34m.\u001b[0m\u001b[0munique\u001b[0m\u001b[0;34m(\u001b[0m\u001b[0mfastqs_samples\u001b[0m\u001b[0;34m)\u001b[0m\u001b[0;34m)\u001b[0m\u001b[0;34m-\u001b[0m\u001b[0;36m1\u001b[0m\u001b[0;34m)\u001b[0m \u001b[0;34m==\u001b[0m \u001b[0;34m(\u001b[0m\u001b[0mlen\u001b[0m\u001b[0;34m(\u001b[0m\u001b[0mfastqs\u001b[0m\u001b[0;34m)\u001b[0m\u001b[0;34m-\u001b[0m\u001b[0;36m1\u001b[0m\u001b[0;34m)\u001b[0m\u001b[0;34m/\u001b[0m\u001b[0;36m2\u001b[0m\u001b[0;34m)\u001b[0m\u001b[0;34m\u001b[0m\u001b[0;34m\u001b[0m\u001b[0m\n\u001b[0m",
      "\u001b[0;31mAssertionError\u001b[0m: "
     ]
    }
   ],
   "source": [
    "assert((len(np.unique(fastqs_samples))-1) == (len(fastqs)-1)/2)"
   ]
  },
  {
   "cell_type": "code",
   "execution_count": 21,
   "metadata": {},
   "outputs": [
    {
     "data": {
      "text/plain": [
       "396.5"
      ]
     },
     "execution_count": 21,
     "metadata": {},
     "output_type": "execute_result"
    }
   ],
   "source": [
    "len(fastqs)-1/2"
   ]
  },
  {
   "cell_type": "code",
   "execution_count": null,
   "metadata": {},
   "outputs": [],
   "source": []
  }
 ],
 "metadata": {
  "kernelspec": {
   "display_name": "Python 3",
   "language": "python",
   "name": "python3"
  },
  "language_info": {
   "codemirror_mode": {
    "name": "ipython",
    "version": 3
   },
   "file_extension": ".py",
   "mimetype": "text/x-python",
   "name": "python",
   "nbconvert_exporter": "python",
   "pygments_lexer": "ipython3",
   "version": "3.7.8"
  }
 },
 "nbformat": 4,
 "nbformat_minor": 2
}
