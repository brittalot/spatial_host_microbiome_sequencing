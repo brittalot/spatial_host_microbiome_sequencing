{
 "cells": [
  {
   "cell_type": "markdown",
   "metadata": {},
   "source": [
    "\n",
    "### runs on stenv3"
   ]
  },
  {
   "cell_type": "code",
   "execution_count": 3,
   "metadata": {},
   "outputs": [],
   "source": [
    "import os\n",
    "import sys\n",
    "import glob\n",
    "import scanpy as sc"
   ]
  },
  {
   "cell_type": "markdown",
   "metadata": {},
   "source": [
    "### Reads in all fastq file names on gcp"
   ]
  },
  {
   "cell_type": "code",
   "execution_count": 4,
   "metadata": {},
   "outputs": [],
   "source": [
    "%%capture cap_out --no-stderr\n",
    "!gsutil ls gs://fc-17b85933-14fb-4c4d-937e-e928f8ea53b1/fastq/ | cut -d '/' -f 5 \n",
    "fastqs = [i for i in cap_out.stdout.split(\"\\r\\n\")]\n",
    "fastqs_samples = [j[0]+\"_\"+j[-1] for j in [i.split(\"_\")[0:2] for i in fastqs]]"
   ]
  },
  {
   "cell_type": "code",
   "execution_count": 6,
   "metadata": {},
   "outputs": [
    {
     "data": {
      "text/plain": [
       "796"
      ]
     },
     "execution_count": 6,
     "metadata": {},
     "output_type": "execute_result"
    }
   ],
   "source": [
    "len(fastqs_samples)-1"
   ]
  },
  {
   "cell_type": "markdown",
   "metadata": {},
   "source": [
    "### Reads in expression file"
   ]
  },
  {
   "cell_type": "code",
   "execution_count": 7,
   "metadata": {
    "scrolled": false
   },
   "outputs": [],
   "source": [
    "# Load Lambda pmean df\n",
    "path = '/home/sanjavickovic/data/st_data'\n",
    "\n",
    "# Read expression file\n",
    "filename = os.path.join(path, 'anndata_colons_norm_metagenes_submodules_celltypes_kegg_degenes_pheno.h5ad')  \n",
    "st_splotch_pd = sc.read_h5ad(filename)"
   ]
  },
  {
   "cell_type": "markdown",
   "metadata": {},
   "source": [
    "### Checks if any extra files deposited on GCP and deletes those"
   ]
  },
  {
   "cell_type": "code",
   "execution_count": 8,
   "metadata": {},
   "outputs": [
    {
     "name": "stdout",
     "output_type": "stream",
     "text": [
      "10015CN109_D2\n",
      "Removing gs://fc-17b85933-14fb-4c4d-937e-e928f8ea53b1/fastq/10015CN109_D2_S5_R1_001.fastq.gz...\n",
      "/ [1 objects]                                                                   \n",
      "Operation completed over 1 objects.                                              \n",
      "Removing gs://fc-17b85933-14fb-4c4d-937e-e928f8ea53b1/fastq/10015CN109_D2_S5_R2_001.fastq.gz...\n",
      "/ [1 objects]                                                                   \n",
      "Operation completed over 1 objects.                                              \n",
      "10015CN111_E2\n",
      "Removing gs://fc-17b85933-14fb-4c4d-937e-e928f8ea53b1/fastq/10015CN111_E2_S6_R1_001.fastq.gz...\n",
      "/ [1 objects]                                                                   \n",
      "Operation completed over 1 objects.                                              \n",
      "Removing gs://fc-17b85933-14fb-4c4d-937e-e928f8ea53b1/fastq/10015CN111_E2_S6_R2_001.fastq.gz...\n",
      "/ [1 objects]                                                                   \n",
      "Operation completed over 1 objects.                                              \n",
      "10015CN119_E2\n",
      "Removing gs://fc-17b85933-14fb-4c4d-937e-e928f8ea53b1/fastq/10015CN119_E2_S6_R1_001.fastq.gz...\n",
      "/ [1 objects]                                                                   \n",
      "Operation completed over 1 objects.                                              \n",
      "Removing gs://fc-17b85933-14fb-4c4d-937e-e928f8ea53b1/fastq/10015CN119_E2_S6_R2_001.fastq.gz...\n",
      "/ [1 objects]                                                                   \n",
      "Operation completed over 1 objects.                                              \n"
     ]
    }
   ],
   "source": [
    "for sam in np.unique(fastqs_samples[0:len(fastqs_samples)-1]):\n",
    "    if not sam in np.unique(list(st_splotch_pd.obs['sample'])):\n",
    "        #print(\"not ok\")\n",
    "        print(sam)\n",
    "        dels = [x for x in fastqs if sam in x]\n",
    "        if len(dels) > 1:\n",
    "            fname_r1 = 'gs://fc-17b85933-14fb-4c4d-937e-e928f8ea53b1/fastq/'+dels[0]\n",
    "            fname_r2 = 'gs://fc-17b85933-14fb-4c4d-937e-e928f8ea53b1/fastq/'+dels[1]\n",
    "        else:\n",
    "            fname_r1 = 'gs://fc-17b85933-14fb-4c4d-937e-e928f8ea53b1/fastq/'+dels[0]\n",
    "        !gsutil rm $fname_r1\n",
    "        !gsutil rm $fname_r2"
   ]
  },
  {
   "cell_type": "code",
   "execution_count": 17,
   "metadata": {},
   "outputs": [],
   "source": [
    "%%capture cap_out --no-stderr\n",
    "!gsutil ls gs://fc-17b85933-14fb-4c4d-937e-e928f8ea53b1/fastq/ | cut -d '/' -f 5 \n",
    "fastqs = [i for i in cap_out.stdout.split(\"\\r\\n\")]\n",
    "fastqs_samples = [j[0]+\"_\"+j[-1] for j in [i.split(\"_\")[0:2] for i in fastqs]]"
   ]
  },
  {
   "cell_type": "markdown",
   "metadata": {},
   "source": [
    "### Checks if any files are missing on GCP"
   ]
  },
  {
   "cell_type": "code",
   "execution_count": 15,
   "metadata": {},
   "outputs": [],
   "source": [
    "for sam in np.unique(list(st_splotch_pd.obs['sample'])):\n",
    "    dels = [x for x in fastqs if sam in x]\n",
    "    if len(dels) == 1:\n",
    "        print(sam)\n",
    "        \n",
    "# copy any files outputed here to gcp for storage"
   ]
  },
  {
   "cell_type": "code",
   "execution_count": null,
   "metadata": {},
   "outputs": [],
   "source": [
    "%%capture cap_out --no-stderr\n",
    "!gsutil ls gs://fc-17b85933-14fb-4c4d-937e-e928f8ea53b1/fastq/ | cut -d '/' -f 5 \n",
    "fastqs = [i for i in cap_out.stdout.split(\"\\r\\n\")]\n",
    "fastqs_samples = [j[0]+\"_\"+j[-1] for j in [i.split(\"_\")[0:2] for i in fastqs]]"
   ]
  },
  {
   "cell_type": "code",
   "execution_count": 16,
   "metadata": {},
   "outputs": [],
   "source": [
    "assert((len(np.unique(fastqs_samples))-1) == (len(fastqs)-1)/2)"
   ]
  }
 ],
 "metadata": {
  "kernelspec": {
   "display_name": "Python 3",
   "language": "python",
   "name": "python3"
  },
  "language_info": {
   "codemirror_mode": {
    "name": "ipython",
    "version": 3
   },
   "file_extension": ".py",
   "mimetype": "text/x-python",
   "name": "python",
   "nbconvert_exporter": "python",
   "pygments_lexer": "ipython3",
   "version": "3.7.8"
  }
 },
 "nbformat": 4,
 "nbformat_minor": 2
}
