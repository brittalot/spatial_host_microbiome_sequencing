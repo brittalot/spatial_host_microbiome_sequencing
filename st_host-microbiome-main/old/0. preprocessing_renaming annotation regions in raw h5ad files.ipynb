{
 "cells": [
  {
   "cell_type": "code",
   "execution_count": 1,
   "metadata": {},
   "outputs": [
    {
     "name": "stderr",
     "output_type": "stream",
     "text": [
      "In /Users/sanjavickovic/miniconda2/envs/stenv3/lib/python3.7/site-packages/matplotlib/mpl-data/stylelib/_classic_test.mplstyle: \n",
      "The text.latex.preview rcparam was deprecated in Matplotlib 3.3 and will be removed two minor releases later.\n",
      "In /Users/sanjavickovic/miniconda2/envs/stenv3/lib/python3.7/site-packages/matplotlib/mpl-data/stylelib/_classic_test.mplstyle: \n",
      "The mathtext.fallback_to_cm rcparam was deprecated in Matplotlib 3.3 and will be removed two minor releases later.\n",
      "In /Users/sanjavickovic/miniconda2/envs/stenv3/lib/python3.7/site-packages/matplotlib/mpl-data/stylelib/_classic_test.mplstyle: Support for setting the 'mathtext.fallback_to_cm' rcParam is deprecated since 3.3 and will be removed two minor releases later; use 'mathtext.fallback : 'cm' instead.\n",
      "In /Users/sanjavickovic/miniconda2/envs/stenv3/lib/python3.7/site-packages/matplotlib/mpl-data/stylelib/_classic_test.mplstyle: \n",
      "The validate_bool_maybe_none function was deprecated in Matplotlib 3.3 and will be removed two minor releases later.\n",
      "In /Users/sanjavickovic/miniconda2/envs/stenv3/lib/python3.7/site-packages/matplotlib/mpl-data/stylelib/_classic_test.mplstyle: \n",
      "The savefig.jpeg_quality rcparam was deprecated in Matplotlib 3.3 and will be removed two minor releases later.\n",
      "In /Users/sanjavickovic/miniconda2/envs/stenv3/lib/python3.7/site-packages/matplotlib/mpl-data/stylelib/_classic_test.mplstyle: \n",
      "The keymap.all_axes rcparam was deprecated in Matplotlib 3.3 and will be removed two minor releases later.\n",
      "In /Users/sanjavickovic/miniconda2/envs/stenv3/lib/python3.7/site-packages/matplotlib/mpl-data/stylelib/_classic_test.mplstyle: \n",
      "The animation.avconv_path rcparam was deprecated in Matplotlib 3.3 and will be removed two minor releases later.\n",
      "In /Users/sanjavickovic/miniconda2/envs/stenv3/lib/python3.7/site-packages/matplotlib/mpl-data/stylelib/_classic_test.mplstyle: \n",
      "The animation.avconv_args rcparam was deprecated in Matplotlib 3.3 and will be removed two minor releases later.\n"
     ]
    }
   ],
   "source": [
    "import pandas as pd\n",
    "import os\n",
    "import numpy as np\n",
    "import scanpy as sc"
   ]
  },
  {
   "cell_type": "markdown",
   "metadata": {},
   "source": [
    "Rename annotations in RAW anndata files"
   ]
  },
  {
   "cell_type": "code",
   "execution_count": 2,
   "metadata": {},
   "outputs": [],
   "source": [
    "# list of already processed files\n",
    "h5ad_path = '/Volumes/Uppmax/colon_data/raw_data'\n",
    "data_ready = [i.split(\".h5ad\")[0] for i in os.listdir(h5ad_path)]\n",
    "g = data_ready\n",
    "#g = metadata[metadata.Age == '12w']['Filename'] # use to subest to a particular condition"
   ]
  },
  {
   "cell_type": "code",
   "execution_count": 4,
   "metadata": {},
   "outputs": [],
   "source": [
    "# reformat the df_all \n",
    "#df_anns_subset = df_anns_all[df_anns_all['image'].isin(g)]\n",
    "df_anns_subset = pd.read_csv(os.path.join(\"/Users/sanjavickovic/Desktop/colons_comp/splotch_ann/\", \"splotch_annotations_merged.tsv\"), sep = \"\\t\")\n",
    "df_anns_subset['file_names'] = [str(i)+'_'+str(j) for i,j in zip(df_anns_subset['image'],df_anns_subset['x_y'])]\n",
    "df_anns_subset.index = df_anns_subset['file_names']\n",
    "df_anns_subset = df_anns_subset[['value']]"
   ]
  },
  {
   "cell_type": "code",
   "execution_count": 5,
   "metadata": {},
   "outputs": [
    {
     "data": {
      "text/html": [
       "<div>\n",
       "<style scoped>\n",
       "    .dataframe tbody tr th:only-of-type {\n",
       "        vertical-align: middle;\n",
       "    }\n",
       "\n",
       "    .dataframe tbody tr th {\n",
       "        vertical-align: top;\n",
       "    }\n",
       "\n",
       "    .dataframe thead th {\n",
       "        text-align: right;\n",
       "    }\n",
       "</style>\n",
       "<table border=\"1\" class=\"dataframe\">\n",
       "  <thead>\n",
       "    <tr style=\"text-align: right;\">\n",
       "      <th></th>\n",
       "      <th>value</th>\n",
       "    </tr>\n",
       "    <tr>\n",
       "      <th>file_names</th>\n",
       "      <th></th>\n",
       "    </tr>\n",
       "  </thead>\n",
       "  <tbody>\n",
       "    <tr>\n",
       "      <th>L8CN183_C2_18.82_11.996</th>\n",
       "      <td>epithelium and lamina propria and muscularis m...</td>\n",
       "    </tr>\n",
       "    <tr>\n",
       "      <th>L8CN183_C2_3.624_15.187</th>\n",
       "      <td>epithelium and lamina propria and muscularis m...</td>\n",
       "    </tr>\n",
       "    <tr>\n",
       "      <th>L8CN183_C2_7.68_22.927</th>\n",
       "      <td>epithelium and lamina propria and muscularis m...</td>\n",
       "    </tr>\n",
       "    <tr>\n",
       "      <th>L8CN183_C2_14.736_27.978</th>\n",
       "      <td>epithelium and lamina propria</td>\n",
       "    </tr>\n",
       "    <tr>\n",
       "      <th>L8CN183_C2_16.764_29.933</th>\n",
       "      <td>muscularis propria muscularis externa and musc...</td>\n",
       "    </tr>\n",
       "    <tr>\n",
       "      <th>...</th>\n",
       "      <td>...</td>\n",
       "    </tr>\n",
       "    <tr>\n",
       "      <th>L8CN174_D1_9.03_15.037</th>\n",
       "      <td>epithelium and lamina propria and muscularis m...</td>\n",
       "    </tr>\n",
       "    <tr>\n",
       "      <th>L8CN174_D1_9.939_25.038</th>\n",
       "      <td>epithelium and lamina propria</td>\n",
       "    </tr>\n",
       "    <tr>\n",
       "      <th>L8CN174_D1_21.99_19.055</th>\n",
       "      <td>epithelium and lamina propria</td>\n",
       "    </tr>\n",
       "    <tr>\n",
       "      <th>L8CN174_D1_31.127_8.054</th>\n",
       "      <td>epithelium and lamina propria</td>\n",
       "    </tr>\n",
       "    <tr>\n",
       "      <th>L8CN174_D1_9.89_22.124</th>\n",
       "      <td>epithelium and lamina propria</td>\n",
       "    </tr>\n",
       "  </tbody>\n",
       "</table>\n",
       "<p>71900 rows × 1 columns</p>\n",
       "</div>"
      ],
      "text/plain": [
       "                                                                      value\n",
       "file_names                                                                 \n",
       "L8CN183_C2_18.82_11.996   epithelium and lamina propria and muscularis m...\n",
       "L8CN183_C2_3.624_15.187   epithelium and lamina propria and muscularis m...\n",
       "L8CN183_C2_7.68_22.927    epithelium and lamina propria and muscularis m...\n",
       "L8CN183_C2_14.736_27.978                      epithelium and lamina propria\n",
       "L8CN183_C2_16.764_29.933  muscularis propria muscularis externa and musc...\n",
       "...                                                                     ...\n",
       "L8CN174_D1_9.03_15.037    epithelium and lamina propria and muscularis m...\n",
       "L8CN174_D1_9.939_25.038                       epithelium and lamina propria\n",
       "L8CN174_D1_21.99_19.055                       epithelium and lamina propria\n",
       "L8CN174_D1_31.127_8.054                       epithelium and lamina propria\n",
       "L8CN174_D1_9.89_22.124                        epithelium and lamina propria\n",
       "\n",
       "[71900 rows x 1 columns]"
      ]
     },
     "execution_count": 5,
     "metadata": {},
     "output_type": "execute_result"
    }
   ],
   "source": [
    "df_anns_subset"
   ]
  },
  {
   "cell_type": "markdown",
   "metadata": {},
   "source": [
    "Re-process original h5ad raw files to have same annotations"
   ]
  },
  {
   "cell_type": "code",
   "execution_count": 50,
   "metadata": {},
   "outputs": [
    {
     "name": "stderr",
     "output_type": "stream",
     "text": [
      "Observation names are not unique. To make them unique, call `.obs_names_make_unique`.\n",
      "Observation names are not unique. To make them unique, call `.obs_names_make_unique`.\n",
      "... storing 'patch' as categorical\n",
      "... storing 'centroids' as categorical\n",
      "... storing 'annotation' as categorical\n"
     ]
    }
   ],
   "source": [
    "## this step is only done if h5ad raw counts files already exhist\n",
    "h5ad_path_reprocessed = '/Volumes/Uppmax/colon_data/raw_data_reprocessed' # new output dir\n",
    "files_done = [i.split(\".h5ad\")[0] for i in os.listdir(h5ad_path_reprocessed)] #check if any files hae already been re-processed\n",
    "# g = ['10005CN35_C2']\n",
    "for f in g:\n",
    "    \n",
    "    # check if already processed\n",
    "    if f in files_done:\n",
    "        continue \n",
    "    \n",
    "    if f == '.DS_Store':\n",
    "        continue\n",
    "        \n",
    "    filename = f + \".h5ad\"\n",
    "    p = sc.read_h5ad(os.path.join(h5ad_path, filename))\n",
    "    adata_n = p.copy()   \n",
    "    obs_tmp = pd.merge(p.obs, df_anns_subset, left_index = True, right_index = True).drop(['annotation'], axis = 1).rename(columns={\"value\": \"annotation\"})   \n",
    "    adata_n = adata_n[obs_tmp.index]\n",
    "    adata_n.obs = adata_n.obs.loc[np.unique(obs_tmp.index),:]\n",
    "    adata_n.obs = obs_tmp\n",
    "    adata_n.write_h5ad(filename = os.path.join(h5ad_path_reprocessed, f+'.h5ad'))"
   ]
  },
  {
   "cell_type": "code",
   "execution_count": null,
   "metadata": {},
   "outputs": [],
   "source": []
  },
  {
   "cell_type": "code",
   "execution_count": null,
   "metadata": {},
   "outputs": [],
   "source": []
  },
  {
   "cell_type": "code",
   "execution_count": null,
   "metadata": {},
   "outputs": [],
   "source": []
  },
  {
   "cell_type": "code",
   "execution_count": null,
   "metadata": {},
   "outputs": [],
   "source": []
  },
  {
   "cell_type": "code",
   "execution_count": null,
   "metadata": {},
   "outputs": [],
   "source": []
  },
  {
   "cell_type": "code",
   "execution_count": null,
   "metadata": {},
   "outputs": [],
   "source": []
  },
  {
   "cell_type": "code",
   "execution_count": null,
   "metadata": {},
   "outputs": [],
   "source": []
  },
  {
   "cell_type": "code",
   "execution_count": null,
   "metadata": {},
   "outputs": [],
   "source": []
  },
  {
   "cell_type": "code",
   "execution_count": null,
   "metadata": {},
   "outputs": [],
   "source": []
  }
 ],
 "metadata": {
  "kernelspec": {
   "display_name": "Python 3",
   "language": "python",
   "name": "python3"
  },
  "language_info": {
   "codemirror_mode": {
    "name": "ipython",
    "version": 3
   },
   "file_extension": ".py",
   "mimetype": "text/x-python",
   "name": "python",
   "nbconvert_exporter": "python",
   "pygments_lexer": "ipython3",
   "version": "3.7.8"
  }
 },
 "nbformat": 4,
 "nbformat_minor": 4
}
