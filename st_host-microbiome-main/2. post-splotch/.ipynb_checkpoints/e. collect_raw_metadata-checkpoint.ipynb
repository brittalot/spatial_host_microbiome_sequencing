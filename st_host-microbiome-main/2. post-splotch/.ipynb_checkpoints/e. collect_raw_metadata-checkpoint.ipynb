{
 "cells": [
  {
   "cell_type": "markdown",
   "metadata": {},
   "source": [
    "\n",
    "### Collects all raw UMI and gene counts and merges with splotch metadata"
   ]
  },
  {
   "cell_type": "code",
   "execution_count": 1,
   "metadata": {},
   "outputs": [],
   "source": [
    "import os\n",
    "import sys\n",
    "import glob\n",
    "import scanpy as sc\n",
    "import numpy as np\n",
    "import pandas as pd\n",
    "%matplotlib inline\n",
    "import matplotlib.pyplot as plt\n",
    "import seaborn as sns\n",
    "import matplotlib as mpl\n",
    "import statistics\n",
    "import statsmodels.api as sm\n",
    "import matplotlib.patches as mpatches\n",
    "import scipy.stats\n",
    "import warnings\n",
    "import pickle\n",
    "from itertools import chain\n",
    "warnings.filterwarnings('ignore')"
   ]
  },
  {
   "cell_type": "markdown",
   "metadata": {},
   "source": [
    "### Gets seq reads data, annotation and UMI counts"
   ]
  },
  {
   "cell_type": "code",
   "execution_count": 2,
   "metadata": {
    "scrolled": true
   },
   "outputs": [
    {
     "name": "stdout",
     "output_type": "stream",
     "text": [
      "Processing... /home/brittalotstedt/host-microbiome/data/st_data/aligned_counts/10015CN38_D2_stdata_under_tissue_IDs.txt\n",
      "Processing... /home/brittalotstedt/host-microbiome/data/st_data/aligned_counts/10015CN41_C1_stdata_under_tissue_IDs.txt\n",
      "Processing... /home/brittalotstedt/host-microbiome/data/st_data/aligned_counts/10015CN46_E2_stdata_under_tissue_IDs.txt\n",
      "Processing... /home/brittalotstedt/host-microbiome/data/st_data/aligned_counts/10015CN44_D1_stdata_under_tissue_IDs.txt\n",
      "Processing... /home/brittalotstedt/host-microbiome/data/st_data/aligned_counts/10015CN73_C1_stdata_under_tissue_IDs.txt\n",
      "Processing... /home/brittalotstedt/host-microbiome/data/st_data/aligned_counts/10015CN72_E2_stdata_under_tissue_IDs.txt\n",
      "Processing... /home/brittalotstedt/host-microbiome/data/st_data/aligned_counts/10015CN46_C1_stdata_under_tissue_IDs.txt\n",
      "Processing... /home/brittalotstedt/host-microbiome/data/st_data/aligned_counts/10015CN72_D2_stdata_under_tissue_IDs.txt\n",
      "Processing... /home/brittalotstedt/host-microbiome/data/st_data/aligned_counts/10015CN44_D2_stdata_under_tissue_IDs.txt\n",
      "Processing... /home/brittalotstedt/host-microbiome/data/st_data/aligned_counts/10015CN41_E1_stdata_under_tissue_IDs.txt\n",
      "Processing... /home/brittalotstedt/host-microbiome/data/st_data/aligned_counts/10015CN73_D1_stdata_under_tissue_IDs.txt\n",
      "Processing... /home/brittalotstedt/host-microbiome/data/st_data/aligned_counts/10015CN44_C2_stdata_under_tissue_IDs.txt\n",
      "Processing... /home/brittalotstedt/host-microbiome/data/st_data/aligned_counts/10015CN41_C2_stdata_under_tissue_IDs.txt\n",
      "Processing... /home/brittalotstedt/host-microbiome/data/st_data/aligned_counts/10015CN44_C1_stdata_under_tissue_IDs.txt\n",
      "Processing... /home/brittalotstedt/host-microbiome/data/st_data/aligned_counts/10015CN41_D1_stdata_under_tissue_IDs.txt\n",
      "Processing... /home/brittalotstedt/host-microbiome/data/st_data/aligned_counts/10015CN46_C2_stdata_under_tissue_IDs.txt\n",
      "Processing... /home/brittalotstedt/host-microbiome/data/st_data/aligned_counts/10015CN38_D1_stdata_under_tissue_IDs.txt\n",
      "Processing... /home/brittalotstedt/host-microbiome/data/st_data/aligned_counts/10015CN46_E1_stdata_under_tissue_IDs.txt\n",
      "Processing... /home/brittalotstedt/host-microbiome/data/st_data/aligned_counts/10015CN46_D1_stdata_under_tissue_IDs.txt\n",
      "Processing... /home/brittalotstedt/host-microbiome/data/st_data/aligned_counts/10015CN38_C1_stdata_under_tissue_IDs.txt\n",
      "Processing... /home/brittalotstedt/host-microbiome/data/st_data/aligned_counts/10015CN44_E2_stdata_under_tissue_IDs.txt\n",
      "Processing... /home/brittalotstedt/host-microbiome/data/st_data/aligned_counts/10015CN72_C1_stdata_under_tissue_IDs.txt\n",
      "Processing... /home/brittalotstedt/host-microbiome/data/st_data/aligned_counts/10015CN41_E2_stdata_under_tissue_IDs.txt\n",
      "Processing... /home/brittalotstedt/host-microbiome/data/st_data/aligned_counts/10015CN73_D2_stdata_under_tissue_IDs.txt\n",
      "Processing... /home/brittalotstedt/host-microbiome/data/st_data/aligned_counts/10015CN41_D2_stdata_under_tissue_IDs.txt\n",
      "Processing... /home/brittalotstedt/host-microbiome/data/st_data/aligned_counts/10015CN44_E1_stdata_under_tissue_IDs.txt\n",
      "Processing... /home/brittalotstedt/host-microbiome/data/st_data/aligned_counts/10015CN46_D2_stdata_under_tissue_IDs.txt\n",
      "Processing... /home/brittalotstedt/host-microbiome/data/st_data/aligned_counts/10015CN38_E1_stdata_under_tissue_IDs.txt\n",
      "Processing... /home/brittalotstedt/host-microbiome/data/st_data/aligned_counts/10015CN38_C2_stdata_under_tissue_IDs.txt\n",
      "Processing... /home/brittalotstedt/host-microbiome/data/st_data/aligned_counts/10015CN72_E1_stdata_under_tissue_IDs.txt\n",
      "Processing... /home/brittalotstedt/host-microbiome/data/st_data/aligned_counts/10015CN72_C2_stdata_under_tissue_IDs.txt\n",
      "Processing... /home/brittalotstedt/host-microbiome/data/st_data/aligned_counts/10015CN72_D1_stdata_under_tissue_IDs.txt\n",
      "Processing... /home/brittalotstedt/host-microbiome/data/st_data/aligned_counts/10015CN73_C2_stdata_under_tissue_IDs.txt\n",
      "Processing... /home/brittalotstedt/host-microbiome/data/st_data/aligned_counts/10015CN38_E2_stdata_under_tissue_IDs.txt\n"
     ]
    }
   ],
   "source": [
    "counts_path = glob.glob(os.path.join('/home/brittalotstedt/host-microbiome/data/st_data/aligned_counts', \"*\"))\n",
    "genes_all = []\n",
    "umis_all = []\n",
    "names_all = []\n",
    "xy_all = []\n",
    "for sam in counts_path:\n",
    "    path = os.path.basename(sam)\n",
    "    print(\"Processing...\", sam)\n",
    "    df = pd.read_csv(sam, sep = \"\\t\")\n",
    "    \n",
    "    genes_all.append(df.astype(bool).sum(axis = 0).tolist())\n",
    "    umis_all.append(df.sum(axis = 0).tolist())\n",
    "    names_all.append([path for i in range(0,len(df.columns))])\n",
    "    xy_all.append([str(round(float(i.split(\"_\")[0])))+\"_\"+str(round(float(i.split(\"_\")[1]))) for i in df.columns])\n",
    "   "
   ]
  },
  {
   "cell_type": "code",
   "execution_count": 3,
   "metadata": {},
   "outputs": [],
   "source": [
    "#Flatten lists\n",
    "umis_all_flat = [item for sublist in umis_all for item in sublist]\n",
    "genes_all_flat = [item for sublist in genes_all for item in sublist]\n",
    "names_all_flat = [item.split(\"_stdata_under_tissue_IDs.txt\")[0] for sublist in names_all for item in sublist]\n",
    "xy_all_flat = [item for sublist in xy_all for item in sublist]"
   ]
  },
  {
   "cell_type": "markdown",
   "metadata": {},
   "source": [
    "## Merge UMIs and genes into a df"
   ]
  },
  {
   "cell_type": "code",
   "execution_count": 4,
   "metadata": {},
   "outputs": [],
   "source": [
    "# Collect umi and gene data into a dataframe\n",
    "dfplot = pd.DataFrame([umis_all_flat, genes_all_flat, names_all_flat, xy_all_flat]).T\n",
    "dfplot.columns = ['UMIs', 'Genes', 'Name', \"x_y\"]\n",
    "dfplot_filtered = dfplot[dfplot['UMIs']>800]\n",
    "dfplot_filtered.reset_index(inplace=True, drop = True)"
   ]
  },
  {
   "cell_type": "markdown",
   "metadata": {},
   "source": [
    "## Merge with numbers of sections detected per array"
   ]
  },
  {
   "cell_type": "code",
   "execution_count": 5,
   "metadata": {},
   "outputs": [],
   "source": [
    "# read in summary file from splotch colon prep\n",
    "summary_sections = pd.read_csv('/home/brittalotstedt/host-microbiome/data/st_data/splotch_outputs/Splotch.e29685944', sep = \"\\t\")\n",
    "summary_sections.columns = ['metadata']\n",
    "samples = [os.path.basename(i).split(\"_stdata_adjusted.tsv\")[0] for i in summary_sections[summary_sections.metadata.str.contains('Processing')].metadata]\n",
    "sections = [int(i[18:].split(\" tissue sections\")[0]) for i in summary_sections[summary_sections.metadata.str.contains('Keeping')].metadata]\n",
    "secs = pd.DataFrame([samples, sections]).T\n",
    "secs.columns = ['Name', 'sections']\n"
   ]
  },
  {
   "cell_type": "markdown",
   "metadata": {},
   "source": [
    "## Merge with study design metadata (splotch)"
   ]
  },
  {
   "cell_type": "code",
   "execution_count": 6,
   "metadata": {},
   "outputs": [],
   "source": [
    "# read in metadata file \n",
    "meta = pd.read_csv('/home/brittalotstedt/host-microbiome/data/st_data/metadata.txt', sep = \"\\t\")\n",
    "meta_1 = pd.merge(meta, secs, left_on=\"Name\", right_on=\"Name\", how = \"inner\")\n",
    "meta_2 = pd.merge(meta_1, dfplot_filtered, left_on=\"Name\", right_on=\"Name\", how = \"inner\")\n",
    "meta_2 = meta_2[meta_2[\"sections\"] != 0]\n",
    "meta_2.reset_index(inplace=True, drop = True)\n",
    "spots = pd.DataFrame(meta_2.groupby(by = \"Name\").count().sections)\n",
    "spots.columns = [\"spots\"]\n",
    "meta_3 = pd.merge(meta_2, spots, left_on=\"Name\", right_on=\"Name\", how = \"inner\")\n"
   ]
  },
  {
   "cell_type": "markdown",
   "metadata": {},
   "source": [
    "## Merge with morphological annotations (MROIs)"
   ]
  },
  {
   "cell_type": "code",
   "execution_count": 7,
   "metadata": {},
   "outputs": [],
   "source": [
    "# read in all annotations files\n",
    "anns_all = []\n",
    "for ann in os.listdir(\"/home/brittalotstedt/host-microbiome/data/st_data/annotations\"):\n",
    "    \n",
    "    if ann == \".DS_Store\":\n",
    "        continue\n",
    "    \n",
    "    short_name = ann.split(\"_annotations.txt\")[0]\n",
    "    \n",
    "    if short_name not in np.unique(meta_3.Name):\n",
    "        print(short_name)\n",
    "        continue  \n",
    "    \n",
    "    df_ann = pd.read_csv(os.path.join(\"/home/brittalotstedt/host-microbiome/data/st_data/annotations\", ann), sep = \"\\t\")\n",
    "    df_ann['x'] = [str(round(float(i))) for i in df_ann['x']]\n",
    "    df_ann['y'] = [str(round(float(i))) for i in df_ann['y']]\n",
    "    df_ann['x_y'] = [str(i)+\"_\"+str(j) for i,j in zip(df_ann['x'], df_ann['y'])]\n",
    "     \n",
    "    anns_all.append(df_ann)\n",
    "anns_all_flat = pd.concat(anns_all)\n",
    "anns_all_flat.reset_index(inplace = True, drop = True)\n",
    "meta_3[\"patch\"] = [i+\"_\"+j for i,j in zip (meta_3[\"Name\"], meta_3[\"x_y\"])]\n",
    "anns_all_flat[\"patch\"] = [i+\"_\"+j for i,j in zip (anns_all_flat[\"image\"], anns_all_flat[\"x_y\"])]\n",
    "meta_4 = pd.merge(meta_3, anns_all_flat, left_on=\"patch\", right_on=\"patch\", how = \"inner\")\n",
    "meta_4.drop([\"image\", 'x_y_y'], axis = 1, inplace = True)\n",
    "meta_4.rename(columns={\"x_y_x\": \"x_y\"}, inplace = True,)\n",
    "meta_4.sections = meta_4.sections.astype(\"int\")\n",
    "meta_4.drop_duplicates([\"patch\"], inplace = True, keep='first')\n"
   ]
  },
  {
   "cell_type": "markdown",
   "metadata": {},
   "source": [
    "## Merge with patches"
   ]
  },
  {
   "cell_type": "code",
   "execution_count": 8,
   "metadata": {},
   "outputs": [],
   "source": [
    "ls = []\n",
    "for dirs in glob.glob(os.path.join('/home/brittalotstedt/host-microbiome/data/st_data/patches', \"*\")):\n",
    "    ls.append([os.path.basename(i).split(\".jpg\")[0] for i in glob.glob(os.path.join(dirs, \"*.jpg\"))])\n",
    "\n",
    "ls_all_patches = list(chain(*ls))\n",
    "ls_all = [i.split(\"_\")[0]+\"_\"+i.split(\"_\")[1]+\"_\"+str(round(float(i.split(\"_\")[2])))+\"_\"+str(round(float(i.split(\"_\")[3]))) for i in ls_all_patches]\n",
    "meta_4 = meta_4[meta_4[\"patch\"].isin(list(np.intersect1d(meta_4.patch, ls_all)))]"
   ]
  },
  {
   "cell_type": "markdown",
   "metadata": {},
   "source": [
    "## Check spots that contain normalized data and subset to QC only those"
   ]
  },
  {
   "cell_type": "code",
   "execution_count": 13,
   "metadata": {},
   "outputs": [],
   "source": [
    "# Load sample_information file\n",
    "info_file = os.path.join('/home/brittalotstedt/host-microbiome/data/st_data/splotch_outputs', 'information.p')\n",
    "info = pickle.load(open(info_file,'rb'))   \n",
    "metadata = info['metadata']\n",
    "n_levels = info['n_levels']\n",
    "lambda_patches = pd.DataFrame([os.path.basename(i[0]).split(\"_stdata_adjusted.tsv\")[0]+\"_\"+i[1] for i in info['filenames_and_coordinates']])\n",
    "lambda_patches.columns = [\"spotch_patches\"]\n",
    "meta_5 = pd.merge(meta_4, lambda_patches, left_on=\"patch\", right_on=\"spotch_patches\", how = \"inner\")"
   ]
  },
  {
   "cell_type": "code",
   "execution_count": 14,
   "metadata": {},
   "outputs": [
    {
     "data": {
      "text/plain": [
       "True"
      ]
     },
     "execution_count": 14,
     "metadata": {},
     "output_type": "execute_result"
    }
   ],
   "source": [
    "# sanity check \n",
    "len(lambda_patches) == len(meta_5)"
   ]
  },
  {
   "cell_type": "code",
   "execution_count": 15,
   "metadata": {},
   "outputs": [
    {
     "data": {
      "text/plain": [
       "'Clean up metadata to match'"
      ]
     },
     "execution_count": 15,
     "metadata": {},
     "output_type": "execute_result"
    }
   ],
   "source": [
    "'Clean up metadata to match'"
   ]
  },
  {
   "cell_type": "code",
   "execution_count": 16,
   "metadata": {},
   "outputs": [],
   "source": [
    "meta_5.rename(columns={\"Level 1\": \"Mouse\", \"Level 2\": \"Type\", \"value\": \"annotation\"},inplace=True)\n",
    "meta_5.index = meta_5.spotch_patches\n",
    "meta_5.drop(['spotch_patches', 'patch'], axis=1,inplace=True)\n",
    "meta_5.rename(columns={\"x_y\":\"patch\"},inplace=True)\n",
    "#meta_5.Region = [i.split(\".\")[1] for i in meta_5.Region]\n",
    "meta_5.UMIs = meta_5.UMIs.astype(int)\n",
    "meta_5.Genes = meta_5.Genes.astype(int)\n",
    "meta_5.spots = meta_5.spots.astype(int)\n",
    "meta_5.sections = meta_5.sections.astype(int)"
   ]
  },
  {
   "cell_type": "code",
   "execution_count": 17,
   "metadata": {},
   "outputs": [],
   "source": [
    "abbreviate_anns_dict = {\n",
    "    \"peyer's patch\": \"PP\",\n",
    "     'epithelium': \"E\",\n",
    "     'epithelium and mucosae':\"EMM\",\n",
    "    'epithelium and muscle and submucosa':\"ALL\",\n",
    "    'epithelium and mucosae and submucosa':\"EMMSUB\",\n",
    "    'crypt apex':\"APEX\",\n",
    "    'crypt base and mid':\"LOWERMID\",\n",
    "    'crypt base': \"BASE\",\n",
    "    'crypt mid': \"MID\",\n",
    "    'muscle and submucosa':\"MSUB\",\n",
    "    'mucosae and interna':\"MMI\",\n",
    "    'externa':\"ME\",\n",
    "    'externa and interna':\"MEI\",\n",
    "    'interna':\"MI\",\n",
    "    'pellet':'PE',\n",
    "    'mucosa':'MU'\n",
    "}\n",
    "meta_5[\"short_annotations\"] = meta_5.annotation.map(abbreviate_anns_dict)\n"
   ]
  },
  {
   "cell_type": "markdown",
   "metadata": {},
   "source": [
    "Write the meta file as this is the final metadata used in the study"
   ]
  },
  {
   "cell_type": "code",
   "execution_count": 18,
   "metadata": {},
   "outputs": [],
   "source": [
    "meta_5.to_csv(\"/home/brittalotstedt/host-microbiome/data/st_data/Metadata_final.csv\", sep = \"\\t\")"
   ]
  },
  {
   "cell_type": "code",
   "execution_count": null,
   "metadata": {},
   "outputs": [],
   "source": []
  },
  {
   "cell_type": "code",
   "execution_count": null,
   "metadata": {},
   "outputs": [],
   "source": []
  },
  {
   "cell_type": "code",
   "execution_count": null,
   "metadata": {},
   "outputs": [],
   "source": []
  },
  {
   "cell_type": "code",
   "execution_count": null,
   "metadata": {},
   "outputs": [],
   "source": []
  },
  {
   "cell_type": "code",
   "execution_count": null,
   "metadata": {},
   "outputs": [],
   "source": []
  },
  {
   "cell_type": "code",
   "execution_count": null,
   "metadata": {},
   "outputs": [],
   "source": []
  },
  {
   "cell_type": "code",
   "execution_count": null,
   "metadata": {},
   "outputs": [],
   "source": []
  },
  {
   "cell_type": "code",
   "execution_count": null,
   "metadata": {},
   "outputs": [],
   "source": []
  }
 ],
 "metadata": {
  "kernelspec": {
   "display_name": "Python 3 (ipykernel)",
   "language": "python",
   "name": "python3"
  },
  "language_info": {
   "codemirror_mode": {
    "name": "ipython",
    "version": 3
   },
   "file_extension": ".py",
   "mimetype": "text/x-python",
   "name": "python",
   "nbconvert_exporter": "python",
   "pygments_lexer": "ipython3",
   "version": "3.7.8"
  }
 },
 "nbformat": 4,
 "nbformat_minor": 2
}
