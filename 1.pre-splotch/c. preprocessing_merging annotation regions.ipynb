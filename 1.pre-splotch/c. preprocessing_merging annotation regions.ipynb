{
 "cells": [
  {
   "cell_type": "markdown",
   "metadata": {},
   "source": [
    "Picking annotations: making a merged or random category for each multi-AAR option"
   ]
  },
  {
   "cell_type": "code",
   "execution_count": null,
   "metadata": {},
   "outputs": [],
   "source": [
    "#This needs checking as new and old scripts dont give same resutls -- note screen shot from 12/12"
   ]
  },
  {
   "cell_type": "code",
   "execution_count": 29,
   "metadata": {},
   "outputs": [],
   "source": [
    "import pandas as pd\n",
    "import os\n",
    "import numpy as np\n",
    "import random\n",
    "import itertools\n",
    "from collections import Counter\n",
    "import scanpy as sc\n",
    "import pickle\n",
    "pd.set_option(\"display.max_rows\", None, \"display.max_columns\", None)\n",
    "pd.options.display.max_colwidth = 200"
   ]
  },
  {
   "cell_type": "markdown",
   "metadata": {},
   "source": [
    "Take image collection file from Celery app"
   ]
  },
  {
   "cell_type": "code",
   "execution_count": 30,
   "metadata": {},
   "outputs": [],
   "source": [
    "# labels path\n",
    "collection_path = \"/Users/sanjavickovic/Desktop/colons_comp/R_annotation_scripts\"\n",
    "\n",
    "# empty df to collect all annotations\n",
    "anns_all_collection = pd.read_csv(os.path.join(collection_path, 'Colon_Dev_annotations_Jan5.txt'), sep = \"\\t\")"
   ]
  },
  {
   "cell_type": "code",
   "execution_count": 31,
   "metadata": {},
   "outputs": [],
   "source": [
    "start_len = len(anns_all_collection.index)"
   ]
  },
  {
   "cell_type": "code",
   "execution_count": 32,
   "metadata": {},
   "outputs": [
    {
     "data": {
      "text/plain": [
       "97878"
      ]
     },
     "execution_count": 32,
     "metadata": {},
     "output_type": "execute_result"
    }
   ],
   "source": [
    "start_len"
   ]
  },
  {
   "cell_type": "markdown",
   "metadata": {},
   "source": [
    "Clean up epithelium and lamina propria"
   ]
  },
  {
   "cell_type": "code",
   "execution_count": 33,
   "metadata": {},
   "outputs": [],
   "source": [
    "anns_all_collection.value = [i.replace(\"Epithelium - All;Lamina propria\", \"Epithelium - Lamina Propria\") for i in anns_all_collection.value ]\n",
    "anns_all_collection.value = [i.replace(\"Epithelium - All;Epithelium - Lamina Propria\", \"Epithelium - Lamina Propria\") for i in anns_all_collection.value]\n"
   ]
  },
  {
   "cell_type": "code",
   "execution_count": 46,
   "metadata": {},
   "outputs": [],
   "source": [
    "anns_all_collection.value = [i.replace(\"Epithelium - All\", \"Epithelium - Lamina Propria\") for i in anns_all_collection.value ]"
   ]
  },
  {
   "cell_type": "markdown",
   "metadata": {},
   "source": [
    "Do a sanity check to see if clean up worked"
   ]
  },
  {
   "cell_type": "code",
   "execution_count": 47,
   "metadata": {},
   "outputs": [],
   "source": [
    "news = []\n",
    "for x in anns_all_collection.value:\n",
    "    if \"Epithelium - All\" in x:\n",
    "        if 'Lamina' in x:\n",
    "            news.append(x.replace(\";Lamina propria\", \"\").replace( \"Epithelium - All\", \"Epithelium - Lamina Propria\"))\n",
    "            \n",
    "    else:\n",
    "        news.append(x)\n",
    "            "
   ]
  },
  {
   "cell_type": "code",
   "execution_count": 48,
   "metadata": {},
   "outputs": [
    {
     "data": {
      "text/plain": [
       "97878"
      ]
     },
     "execution_count": 48,
     "metadata": {},
     "output_type": "execute_result"
    }
   ],
   "source": [
    "len(news)"
   ]
  },
  {
   "cell_type": "markdown",
   "metadata": {},
   "source": [
    "Do initial renaming"
   ]
  },
  {
   "cell_type": "code",
   "execution_count": 49,
   "metadata": {},
   "outputs": [
    {
     "name": "stdout",
     "output_type": "stream",
     "text": [
      "ok\n"
     ]
    }
   ],
   "source": [
    "if (len(news) == len(anns_all_collection.value)):\n",
    "    print(\"ok\")\n",
    "    anns_all_collection.value = news"
   ]
  },
  {
   "cell_type": "code",
   "execution_count": 50,
   "metadata": {},
   "outputs": [
    {
     "data": {
      "text/plain": [
       "97878"
      ]
     },
     "execution_count": 50,
     "metadata": {},
     "output_type": "execute_result"
    }
   ],
   "source": [
    "len(anns_all_collection.index)"
   ]
  },
  {
   "cell_type": "code",
   "execution_count": 64,
   "metadata": {},
   "outputs": [
    {
     "name": "stdout",
     "output_type": "stream",
     "text": [
      "10007CN71_C2\n",
      "Too many spots lost in merging... 30\n",
      "10007CN71_D1\n",
      "Too many spots lost in merging... 10\n",
      "10007CN71_D2\n",
      "Too many spots lost in merging... 5\n",
      "10007CN72_C1\n",
      "Too many spots lost in merging... 20\n",
      "10007CN72_C2\n",
      "Too many spots lost in merging... 10\n",
      "L9CN81_E2\n",
      "Too many spots lost in merging... 8\n"
     ]
    }
   ],
   "source": [
    "# makes splotch output annotations based on what's been pre-processed for tangram\n",
    "\n",
    "# # labels path\n",
    "# labels_path = \"/Users/sanjavickovic/Desktop/colons_comp/labels\"\n",
    "\n",
    "# # get path to training directory per image \n",
    "# train_path = '/Users/sanjavickovic/Desktop/colons_comp/train'\n",
    "\n",
    "# #list all dirs in the train_path\n",
    "# imgs = os.listdir(train_path)\n",
    "# imgs.remove('.DS_Store') # makes sure Sanja's cloud stuff isn't in here\n",
    "\n",
    "# # empty df to collect all annotations\n",
    "# df_anns_all = pd.DataFrame(columns = ['image', 'x_y', 'x', 'y', 'value'])\n",
    "\n",
    "# # based on 12w data for now \n",
    "# anns_all = []\n",
    "# anns_random = []\n",
    "# for image_name in imgs:   \n",
    "    \n",
    "#     ann_file = image_name + '_labels.csv'\n",
    "#     ann = pd.read_csv(os.path.join(labels_path, ann_file))\n",
    "#     splotch_ann = pd.DataFrame(columns = ['image', 'x_y', 'x', 'y', 'value'])\n",
    "#     splotch_ann['image'] = [i.split(\"_\")[0]+'_'+i.split(\"_\")[1] for i in ann['id']]\n",
    "#     splotch_ann['x_y'] = [i.split(\"_\")[2]+'_'+i.split(\"_\")[3] for i in ann['id']]\n",
    "#     splotch_ann['x'] = [i.split(\"_\")[2] for i in ann['id']]\n",
    "#     splotch_ann['y'] = [i.split(\"_\")[3] for i in ann['id']]\n",
    "#     splotch_ann['value'] = ann['annotation']\n",
    "# empty df to collect all annotations\n",
    "df_anns_all = pd.DataFrame(columns = ['image', 'x_y', 'x', 'y', 'value'])\n",
    "\n",
    "# based on 12w data for now \n",
    "anns_all = []\n",
    "anns_random = []\n",
    "\n",
    "counter = 1\n",
    "\n",
    "for img in np.unique(anns_all_collection['image']):\n",
    "    \n",
    "    # subset to only one img\n",
    "    #print(img)\n",
    "    ann_df = anns_all_collection[anns_all_collection['image'] == img]\n",
    "    #print(\"Initial size: \", len(ann_df.index))\n",
    "    \n",
    "    # if ann label \"Unknown\" remove those spots\n",
    "    ann_df = ann_df[~ann_df['value'].isin(['Unknown'])]\n",
    "    \n",
    "    #print(\"Filtering unknowns: \", len(ann_df.index))\n",
    "    unknowns_length = len(ann_df.index)\n",
    "    \n",
    "    # rename regions to make sure they survive tf handling\n",
    "    new_names = [{x:x.lower().replace(\" - \",\" \").replace(\";\",\" and \")} for x in set(ann_df['value'])]\n",
    "    vals = [v for v in new_names for k,v in v.items()]\n",
    "    keys = [v for v in new_names for v,k in v.items()]\n",
    "    ann_df['value'] = ann_df['value'].replace({keys[i]: vals[i] for i in range(len(vals))})\n",
    "    \n",
    "    # rename df\n",
    "    splotch_ann = ann_df.reset_index(drop=True)\n",
    "    #print(\"Check before merging: \", len(splotch_ann.index))\n",
    "    # some clean up \n",
    "#     splotch_ann['value'] = splotch_ann['value'].str.replace('epithelium lamina propria and lamina propria', 'epithelium lamina propria')\n",
    "#     splotch_ann['value'] = splotch_ann['value'].str.replace('epithelium all and lamina propria', 'epithelium lamina propria')\n",
    "#     splotch_ann['value'] = splotch_ann['value'].str.replace('submucosa vessels', 'submucosa all')\n",
    "#     #splotch_ann['value'] = splotch_ann['value'].str.replace('lamina propria and muscularis mucosae', 'epithelium lamina propria and muscularis mucosae')\n",
    "#     splotch_ann['value'] = splotch_ann['value'].str.replace(' and myenteric plexus', \"\")    \n",
    "    \n",
    "    # some clean up \n",
    "    splotch_ann['value'] = splotch_ann['value'].str.replace('epithelium lamina propria and lamina propria', 'epithelium lamina propria')\n",
    "    splotch_ann['value'] = splotch_ann['value'].str.replace('epithelium all and lamina propria', 'epithelium lamina propria')\n",
    "    #splotch_ann['value'] = splotch_ann['value'].str.replace('epithelium all', 'epithelium lamina propria')\n",
    "    splotch_ann['value'] = splotch_ann['value'].str.replace('submucosa vessels', 'submucosa all')\n",
    "    #splotch_ann['value'] = splotch_ann['value'].str.replace('lamina propria and muscularis mucosae', 'epithelium lamina propria and muscularis mucosae')\n",
    "    splotch_ann['value'] = splotch_ann['value'].str.replace(' and myenteric plexus', \"\")    \n",
    "    #splotch_ann['value'] = splotch_ann['value'].str.replace('epithelium base of crypt and epithelium mid crypt and mucosa', 'epithelium and lamina propria and mucosa')\n",
    "    #splotch_ann['value'] = splotch_ann['value'].str.replace('epithelium and lamina propria and pellet', 'epithelium and lamina propria and mucosa')\n",
    "\n",
    "    \n",
    "    # this is ok \n",
    "    if len(splotch_ann[splotch_ann['value'] == \"lamina propria\"]) > 0:\n",
    "        # print(\"ovdje\")\n",
    "        ind = splotch_ann[splotch_ann['value'] == \"lamina propria\"].index\n",
    "        splotch_ann.at[ind, 'value'] = \"epithelium lamina propria\"\n",
    "    \n",
    "    # this is ok \n",
    "    if len(splotch_ann[splotch_ann['value'] == \"submucosa all\"]) >0:\n",
    "        ind = splotch_ann[splotch_ann['value'] == \"submucosa all\"].index\n",
    "        #print(splotch_ann[splotch_ann['value'] == \"submucosa all\"])\n",
    "        splotch_ann.at[ind, 'value'] = \"muscularis all and submucosa all\"\n",
    "        \n",
    "    # this is ok\n",
    "    if len(splotch_ann[splotch_ann['value'] == \"muscularis mucosae\"]) >0:\n",
    "        ind = splotch_ann[splotch_ann['value'] == \"muscularis mucosae\"].index\n",
    "        #print(splotch_ann[splotch_ann['value'] == \"muscularis mucosae\"])\n",
    "        splotch_ann.at[ind, 'value'] = \"muscularis all and submucosa all\"\n",
    "    \n",
    "    # this is ok\n",
    "    if len(splotch_ann[splotch_ann['value'] == \"muscularis mucosae and submucosa all\"]) >0:\n",
    "        ind = splotch_ann[splotch_ann['value'] == \"muscularis mucosae and submucosa all\"].index\n",
    "        splotch_ann.at[ind, 'value'] = \"muscularis all and submucosa all\" \n",
    "        \n",
    "       \n",
    "    if len(splotch_ann[splotch_ann['value'] == \"epithelium lamina propria and muscularis mucosae and submucosa vessels\"]) == 1:\n",
    "        ind = splotch_ann[splotch_ann['value'] == \"epithelium lamina propria and muscularis mucosae and submucosa vessels\"].index\n",
    "        splotch_ann.at[ind, 'value'] = \"epithelium lamina propria and muscularis mucosae and submucosa all\"\n",
    "    \n",
    "    \n",
    "    if len(splotch_ann[splotch_ann['value'] == \"epithelium lamina propria and muscularis propria muscularis externa and muscularis propria muscularis interna and submucosa all\"]) == 1:\n",
    "        ind = splotch_ann[splotch_ann['value'] == \"epithelium lamina propria and muscularis propria muscularis externa and muscularis propria muscularis interna and submucosa all\"].index\n",
    "        splotch_ann.at[ind, 'value'] = \"epithelium lamina propria and muscularis mucosae and muscularis propria muscularis externa and muscularis propria muscularis interna and submucosa all\"\n",
    "\n",
    "        \n",
    "    if len(splotch_ann[splotch_ann['value'].str.contains('lamina propria and muscularis mucosae and muscularis propria ')])>0:\n",
    "        ind = splotch_ann[splotch_ann['value'].str.contains('lamina propria and muscularis mucosae and muscularis propria ')].index\n",
    "        for j in ind:\n",
    "            splotch_ann.at[j, 'value'] = \"epithelium lamina propria and muscularis mucosae and muscularis propria muscularis externa and muscularis propria muscularis interna and submucosa all\"\n",
    " \n",
    "    if len(splotch_ann[splotch_ann['value'].str.contains('epithelium base of crypt and lamina propria and ')])>0:\n",
    "        ind = splotch_ann[splotch_ann['value'].str.contains('epithelium base of crypt and lamina propria and ')].index\n",
    "        for j in ind:\n",
    "            splotch_ann.at[j, 'value'] = \"epithelium base of crypt and lamina propria and muscularis mucosae and muscularis propria muscularis externa and muscularis propria muscularis interna and submucosa all\"\n",
    "  \n",
    "    #this is ok\n",
    "    if len(splotch_ann[splotch_ann['value'].str.contains('epithelium lamina propria and muscularis propria muscularis interna and ')])>0:\n",
    "        ind = splotch_ann[splotch_ann['value'].str.contains('epithelium lamina propria and muscularis propria muscularis interna and ')].index\n",
    "        for j in ind:\n",
    "            splotch_ann.at[j, 'value'] = \"epithelium lamina propria and muscularis mucosae and muscularis propria muscularis externa and muscularis propria muscularis interna and submucosa all\"\n",
    "\n",
    "    #this is ok\n",
    "    if len(splotch_ann[splotch_ann['value'].str.contains('epithelium base of crypt and epithelium mid crypt and lamina propria')])>0:\n",
    "        ind = splotch_ann[splotch_ann['value'].str.contains('epithelium base of crypt and epithelium mid crypt and lamina propria')].index\n",
    "        for j in ind:\n",
    "            splotch_ann.at[j, 'value'] = \"epithelium base of crypt and epithelium mid crypt and lamina propria\"\n",
    "\n",
    "    if len(splotch_ann[splotch_ann['value'].str.contains('epithelium apex of crypt')])>0:\n",
    "        ind = splotch_ann[splotch_ann['value'].str.contains('epithelium apex of crypt')].index\n",
    "        for j in ind:\n",
    "            splotch_ann.at[j, 'value'] = \"epithelium apex of crypt and lamina propria\"\n",
    "\n",
    "    #this is ok\n",
    "    if len(splotch_ann[splotch_ann['value'].str.contains('epithelium lamina propria and muscularis propria muscularis externa and muscularis propria muscularis interna')])>0:\n",
    "        ind = splotch_ann[splotch_ann['value'].str.contains('epithelium lamina propria and muscularis propria muscularis externa and muscularis propria muscularis interna')].index\n",
    "        for j in ind:\n",
    "            splotch_ann.at[j, 'value'] = \"epithelium lamina propria and muscularis mucosae and muscularis propria muscularis externa and muscularis propria muscularis interna and submucosa all\"\n",
    "    \n",
    "    #if len(splotch_ann[splotch_ann['value'] == \"epithelium lamina propria and muscularis mucosae and submucosa all\"]) == 1:\n",
    "        #print(splotch_ann[splotch_ann['value'] == \"epithelium lamina propria and muscularis mucosae and submucosa all\"])             \n",
    "\n",
    "    #this is ok\n",
    "    if len(splotch_ann[splotch_ann['value'].str.contains('muscularis propria muscularis interna and submucosa all')])>0:\n",
    "        ind1 = splotch_ann[splotch_ann['value'].str.contains('muscularis propria muscularis interna and submucosa all')].index\n",
    "        tmpdf = splotch_ann.iloc[ind1,:]\n",
    "        tmpdf = tmpdf[~tmpdf['value'].str.contains('epithelium')]\n",
    "        ind = tmpdf.index\n",
    "        #print(splotch_ann[splotch_ann['value'].str.contains('muscularis propria muscularis interna and submucosa all')])\n",
    "        for j in ind:\n",
    "            splotch_ann.at[j, 'value'] = \"muscularis all and submucosa all\"\n",
    "  \n",
    "    #this is ok\n",
    "    if len(splotch_ann[splotch_ann['value'].str.contains('epithelium lamina propria and muscularis propria muscularis interna')])>0:\n",
    "        ind = splotch_ann[splotch_ann['value'].str.contains('epithelium lamina propria and muscularis propria muscularis interna')].index\n",
    "        for j in ind:\n",
    "            splotch_ann.at[j, 'value'] = \"epithelium lamina propria and muscularis mucosae\"  \n",
    "   \n",
    "    # this is ok\n",
    "    if len(splotch_ann[splotch_ann['value'].str.contains('unknown')])>0:\n",
    "        splotch_ann = splotch_ann[~splotch_ann['value'].str.contains('unknown')]\n",
    "    \n",
    "    if len(splotch_ann[splotch_ann['value']==('submucosa vessels')]):\n",
    "        print(\"ovdje\")\n",
    "        ind = splotch_ann[splotch_ann['value'] == \"submucosa vessels\"].index\n",
    "        splotch_ann.at[ind, 'value'] = \"muscularis mucosae and submucosa all\"\n",
    "        \n",
    "    if len(splotch_ann[splotch_ann['value'].str.contains('epithelium base of crypt and muscularis mucosae and muscularis propria muscularis externa and muscularis propria muscularis interna')])>0:\n",
    "        ind = splotch_ann[splotch_ann['value'].str.contains('epithelium base of crypt and muscularis mucosae and muscularis propria muscularis externa and muscularis propria muscularis interna')].index\n",
    "        for j in ind:\n",
    "            splotch_ann.at[j, 'value'] = \"epithelium base of crypt and lamina propria and muscularis mucosae and muscularis propria muscularis externa and muscularis propria muscularis interna and submucosa all\"\n",
    " \n",
    "    if len(splotch_ann[splotch_ann['value'].str.contains('epithelium base of crypt and epithelium mid crypt and muscularis')])>0:\n",
    "        ind = splotch_ann[splotch_ann['value'].str.contains('epithelium base of crypt and epithelium mid crypt and muscularis')].index\n",
    "        for j in ind:\n",
    "            splotch_ann.at[j, 'value'] = \"epithelium base of crypt and epithelium mid crypt and lamina propria\"\n",
    "\n",
    "    \n",
    "    # these 3 have been fixed in celery and can be removed later\n",
    "    #this is ok\n",
    "    if len(splotch_ann[splotch_ann['value'].str.contains('muscularis mucosae and muscularis propria muscularis interna and submucosa vessels')])>0:\n",
    "        splotch_ann = splotch_ann[~splotch_ann['value'].str.contains('muscularis mucosae and muscularis propria muscularis interna and submucosa vessels')]\n",
    "        \n",
    "    #this is ok\n",
    "    if len(splotch_ann[splotch_ann['value'].str.contains('epithelium lamina propria and muscularis propria muscularis externa')])>0:\n",
    "        splotch_ann = splotch_ann[~splotch_ann['value'].str.contains('epithelium lamina propria and muscularis propria muscularis externa')]\n",
    " \n",
    "    #this is ok\n",
    "    if len(splotch_ann[splotch_ann['value'].str.contains('epithelium lamina propria and submucosa all')])>0:\n",
    "        splotch_ann = splotch_ann[~splotch_ann['value'].str.contains('epithelium lamina propria and submucosa all')]\n",
    "  \n",
    "    \n",
    "    if len(splotch_ann[splotch_ann['value'].str.contains('epithelium base of crypt and muscularis')])>0:\n",
    "        ind = splotch_ann[splotch_ann['value'].str.contains('epithelium base of crypt and muscularis')].index\n",
    "        for j in ind:\n",
    "            splotch_ann.at[j, 'value'] = \"epithelium base of crypt and muscularis mucosae and muscularis propria muscularis interna\"\n",
    "    \n",
    "    splotch_ann['value'] = splotch_ann['value'].str.replace('epithelium epithelium lamina propria', 'epithelium lamina propria')\n",
    "    #splotch_ann['value'] = splotch_ann['value'].str.replace('epithelium base of crypt and epithelium mid crypt', 'epithelium base of crypt and epithelium mid crypt and epithelium lamina propria and muscularis mucosae and submucosa all')\n",
    "    #splotch_ann['value'] = splotch_ann['value'].str.replace('lamina propria and muscularis propria muscularis interna', 'epithelium lamina propria and muscularis propria muscularis interna')              \n",
    "    \n",
    "    if len(splotch_ann[splotch_ann['value']==('lamina propria and muscularis propria muscularis interna')]):\n",
    "        ind = splotch_ann[splotch_ann['value'] == \"lamina propria and muscularis propria muscularis interna\"].index\n",
    "        splotch_ann.at[ind, 'value'] = \"epithelium lamina propria and muscularis propria muscularis interna\"\n",
    "    \n",
    "    if len(splotch_ann[splotch_ann['value']==('lamina propria and muscularis mucosae and submucosa all')]):\n",
    "        ind = splotch_ann[splotch_ann['value'] == \"lamina propria and muscularis mucosae and submucosa all\"].index\n",
    "        splotch_ann.at[ind, 'value'] = \"epithelium lamina propria and muscularis propria muscularis interna\"  \n",
    "    \n",
    "    if len(splotch_ann[splotch_ann['value']==('lamina propria and muscularis mucosae')]):\n",
    "        ind = splotch_ann[splotch_ann['value'] == \"lamina propria and muscularis mucosae\"].index\n",
    "        splotch_ann.at[ind, 'value'] = \"epithelium lamina propria and muscularis mucosae\"\n",
    "\n",
    "    if len(splotch_ann[splotch_ann['value']==('epithelium mid crypt and lamina propria and muscularis mucosae')]):\n",
    "        ind = splotch_ann[splotch_ann['value'] == \"epithelium mid crypt and lamina propria and muscularis mucosae\"].index\n",
    "        splotch_ann.at[ind, 'value'] = \"epithelium mid crypt and lamina propria\"\n",
    "\n",
    "    if len(splotch_ann[splotch_ann['value']==('epithelium base of crypt and submucosa all')]):\n",
    "        ind = splotch_ann[splotch_ann['value'] == \"epithelium base of crypt and submucosa all\"].index\n",
    "        splotch_ann.at[ind, 'value'] = \"epithelium base of crypt and muscularis mucosae and muscularis propria muscularis interna\"\n",
    "    \n",
    "    if len(splotch_ann[splotch_ann['value']==('epithelium base of crypt and epithelium lamina propria and epithelium mid crypt and lamina propria and muscularis mucosae')]):\n",
    "        ind = splotch_ann[splotch_ann['value'] == \"epithelium base of crypt and epithelium lamina propria and epithelium mid crypt and lamina propria and muscularis mucosae\"].index\n",
    "        splotch_ann.at[ind, 'value'] = \"epithelium base of crypt and epithelium mid crypt and lamina propria\"\n",
    "      \n",
    "    if len(splotch_ann[splotch_ann['value']==('muscularis propria muscularis externa and submucosa all')]):\n",
    "        ind = splotch_ann[splotch_ann['value'] == \"muscularis propria muscularis externa and submucosa all\"].index\n",
    "        splotch_ann.at[ind, 'value'] = \"muscularis all and submucosa all\"\n",
    "\n",
    "    if len(splotch_ann[splotch_ann['value']==('epithelium lamina propria and muscularis propria muscularis interna')]):\n",
    "        ind = splotch_ann[splotch_ann['value'] == \"epithelium lamina propria and muscularis propria muscularis interna\"].index\n",
    "        splotch_ann.at[ind, 'value'] = \"epithelium lamina propria and muscularis mucosae\"\n",
    "    \n",
    "    if len(splotch_ann[splotch_ann['value']==('epithelium base of crypt and epithelium mid crypt')]):\n",
    "        ind = splotch_ann[splotch_ann['value'] == \"epithelium base of crypt and epithelium mid crypt\"].index\n",
    "        splotch_ann.at[ind, 'value'] = \"epithelium base of crypt and epithelium mid crypt and lamina propria\"\n",
    "\n",
    "    if len(splotch_ann[splotch_ann['value']==('epithelium mid crypt')]):\n",
    "        ind = splotch_ann[splotch_ann['value'] == \"epithelium mid crypt\"].index\n",
    "        splotch_ann.at[ind, 'value'] = \"epithelium mid crypt and lamina propria\"\n",
    "    \n",
    "    if len(splotch_ann[splotch_ann['value']==('epithelium mid crypt and muscularis mucosae')]):\n",
    "        ind = splotch_ann[splotch_ann['value'] == \"epithelium mid crypt and muscularis mucosae\"].index\n",
    "        splotch_ann.at[ind, 'value'] = \"epithelium mid crypt and lamina propria\"\n",
    "    \n",
    "    if len(splotch_ann[splotch_ann['value']==('epithelium base of crypt and epithelium lamina propria and muscularis mucosae and submucosa all')]):\n",
    "        ind = splotch_ann[splotch_ann['value'] == \"epithelium base of crypt and epithelium lamina propria and muscularis mucosae and submucosa all\"].index\n",
    "        splotch_ann.at[ind, 'value'] = \"epithelium base of crypt and lamina propria and muscularis mucosae and muscularis propria muscularis externa and muscularis propria muscularis interna and submucosa all\"\n",
    "    \n",
    "    if len(splotch_ann[splotch_ann['value']==('epithelium base of crypt and epithelium lamina propria')]):\n",
    "        ind = splotch_ann[splotch_ann['value'] == \"epithelium base of crypt and epithelium lamina propria\"].index\n",
    "        splotch_ann.at[ind, 'value'] = \"epithelium base of crypt and muscularis mucosae and muscularis propria muscularis interna\"\n",
    "    \n",
    "    if len(splotch_ann[splotch_ann['value']==('epithelium base of crypt')]):\n",
    "        ind = splotch_ann[splotch_ann['value'] == \"epithelium base of crypt\"].index\n",
    "        splotch_ann.at[ind, 'value'] = \"epithelium base of crypt and muscularis mucosae and muscularis propria muscularis interna\"\n",
    "\n",
    "    if len(splotch_ann[splotch_ann['value']==(\"muscularis mucosae and muscularis propria muscularis externa and muscularis propria muscularis interna and peyer's patch\")]):\n",
    "        ind = splotch_ann[splotch_ann['value'] == \"muscularis mucosae and muscularis propria muscularis externa and muscularis propria muscularis interna and peyer's patch\"].index\n",
    "        splotch_ann.at[ind, 'value'] = \"muscularis mucosae and muscularis propria muscularis interna and peyer's patch\"\n",
    "\n",
    "    if len(splotch_ann[splotch_ann['value']==(\"muscularis propria muscularis interna and peyer's patch\")]):\n",
    "        ind = splotch_ann[splotch_ann['value'] == \"muscularis propria muscularis interna and peyer's patch\"].index\n",
    "        splotch_ann.at[ind, 'value'] = \"muscularis mucosae and muscularis propria muscularis interna and peyer's patch\"\n",
    "        \n",
    "    if len(splotch_ann[splotch_ann['value']==(\"muscularis propria muscularis externa and muscularis propria muscularis interna and peyer's patch\")]):\n",
    "        ind = splotch_ann[splotch_ann['value'] == \"muscularis propria muscularis externa and muscularis propria muscularis interna and peyer's patch\"].index\n",
    "        splotch_ann.at[ind, 'value'] = \"muscularis mucosae and muscularis propria muscularis interna and peyer's patch\"\n",
    "    \n",
    "    if len(splotch_ann[splotch_ann['value']==(\"epithelium lamina propria and muscularis mucosae and peyer's patch\")]):\n",
    "        ind = splotch_ann[splotch_ann['value'] == \"epithelium lamina propria and muscularis mucosae and peyer's patch\"].index\n",
    "        splotch_ann.at[ind, 'value'] = \"epithelium and lamina propria and peyer's patch\"\n",
    "       \n",
    "        \n",
    "    if len(splotch_ann[splotch_ann['value'].str.contains(\"and peyer's patch and submucosa all\")])>0:\n",
    "        ind = splotch_ann[splotch_ann['value'].str.contains(\"and peyer's patch and submucosa all\")].index\n",
    "        for j in ind:\n",
    "            splotch_ann.at[j, 'value'] = \"muscularis mucosae and muscularis propria muscularis interna and peyer's patch\"\n",
    "\n",
    "   \n",
    "            \n",
    "    ############ final cleanup ##################    \n",
    "    splotch_ann['value'] = splotch_ann['value'].str.replace('epithelium lamina propria', 'epithelium and lamina propria')\n",
    "    \n",
    "    if len(splotch_ann[splotch_ann['value']==(\"epithelium and lamina propria and epithelium mid crypt and lamina propria\")]):\n",
    "        ind = splotch_ann[splotch_ann['value'] == \"epithelium and lamina propria and epithelium mid crypt and lamina propria\"].index\n",
    "        splotch_ann.at[ind, 'value'] = \"epithelium base of crypt and epithelium mid crypt and lamina propria\"\n",
    "          \n",
    "    if len(splotch_ann[splotch_ann['value']==(\"epithelium and lamina propria and epithelium base of crypt\")]):\n",
    "        ind = splotch_ann[splotch_ann['value'] == \"epithelium and lamina propria and epithelium base of crypt\"].index\n",
    "        splotch_ann.at[ind, 'value'] = \"epithelium base of crypt and lamina propria\"\n",
    "           \n",
    "    if len(splotch_ann[splotch_ann['value']==(\"epithelium base of crypt and epithelium and lamina propria and epithelium mid crypt and muscularis mucosae\")]):\n",
    "        ind = splotch_ann[splotch_ann['value'] == \"epithelium base of crypt and epithelium and lamina propria and epithelium mid crypt and muscularis mucosae\"].index\n",
    "        splotch_ann.at[ind, 'value'] = \"epithelium base of crypt and epithelium mid crypt and lamina propria\"\n",
    "    \n",
    "    if len(splotch_ann[splotch_ann['value']==(\"epithelium base of crypt and epithelium and lamina propria and epithelium mid crypt\")]):\n",
    "        ind = splotch_ann[splotch_ann['value'] == \"epithelium base of crypt and epithelium and lamina propria and epithelium mid crypt\"].index\n",
    "        splotch_ann.at[ind, 'value'] = \"epithelium base of crypt and epithelium mid crypt and lamina propria\"   \n",
    "\n",
    "        \n",
    "    if len(splotch_ann[splotch_ann['value']==(\"epithelium and lamina propria and epithelium base of crypt and epithelium mid crypt\")]):\n",
    "        ind = splotch_ann[splotch_ann['value'] == \"epithelium and lamina propria and epithelium base of crypt and epithelium mid crypt\"].index\n",
    "        splotch_ann.at[ind, 'value'] = \"epithelium base of crypt and epithelium mid crypt and lamina propria\"\n",
    "\n",
    "    if len(splotch_ann[splotch_ann['value']==(\"epithelium and lamina propria and epithelium mid crypt and lamina propria\")]):\n",
    "        ind = splotch_ann[splotch_ann['value'] == \"epithelium and lamina propria and epithelium mid crypt and lamina propria\"].index\n",
    "        splotch_ann.at[ind, 'value'] = \"epithelium mid crypt and lamina propria\"\n",
    "\n",
    "    if len(splotch_ann[splotch_ann['value']==(\"epithelium and lamina propria and epithelium mid crypt\")]):\n",
    "        ind = splotch_ann[splotch_ann['value'] == \"epithelium and lamina propria and epithelium mid crypt\"].index\n",
    "        splotch_ann.at[ind, 'value'] = \"epithelium mid crypt and lamina propria\"\n",
    "\n",
    "    if len(splotch_ann[splotch_ann['value']==(\"epithelium base of crypt and epithelium and lamina propria and muscularis mucosae\")]):\n",
    "        ind = splotch_ann[splotch_ann['value'] == \"epithelium base of crypt and epithelium and lamina propria and muscularis mucosae\"].index\n",
    "        splotch_ann.at[ind, 'value'] = \"epithelium base of crypt and lamina propria and muscularis mucosae and muscularis propria muscularis externa and muscularis propria muscularis interna and submucosa all\"\n",
    "           \n",
    "    if len(splotch_ann[splotch_ann['value']==(\"epithelium base of crypt and lamina propria\")]):\n",
    "        ind = splotch_ann[splotch_ann['value'] == \"epithelium base of crypt and lamina propria\"].index\n",
    "        splotch_ann.at[ind, 'value'] = \"epithelium base of crypt and lamina propria and muscularis mucosae and muscularis propria muscularis externa and muscularis propria muscularis interna and submucosa all\"\n",
    "    \n",
    "    if len(splotch_ann[splotch_ann['value']==(\"epithelium and lamina propria and epithelium base of crypt\")]):\n",
    "        ind = splotch_ann[splotch_ann['value'] == \"epithelium and lamina propria and epithelium base of crypt\"].index\n",
    "        splotch_ann.at[ind, 'value'] = \"epithelium base of crypt and lamina propria and muscularis mucosae and muscularis propria muscularis externa and muscularis propria muscularis interna and submucosa all\"\n",
    "\n",
    "    if len(splotch_ann[splotch_ann['value']==(\"epithelium base of crypt and epithelium and lamina propria and epithelium mid crypt and muscularis mucosae and muscularis propria muscularis interna\")]):\n",
    "        ind = splotch_ann[splotch_ann['value'] == \"epithelium base of crypt and epithelium and lamina propria and epithelium mid crypt and muscularis mucosae and muscularis propria muscularis interna\"].index\n",
    "        splotch_ann.at[ind, 'value'] = \"epithelium base of crypt and epithelium mid crypt and lamina propria\"\n",
    "\n",
    "    # comment this to have an extra layer\n",
    "    splotch_ann['value'] = splotch_ann['value'].str.replace('muscularis propria muscularis externa and muscularis propria muscularis interna and muscularis mucosae','muscularis propria muscularis externa and muscularis propria muscularis interna')\n",
    "    splotch_ann['x'] = [i.split(\"_\")[0] for i in splotch_ann['x_y']]\n",
    "    splotch_ann['y'] = [i.split(\"_\")[1] for i in splotch_ann['x_y']]\n",
    "    \n",
    "    # write file used as input into Britta's splotch pre-processing script\n",
    "    splotch_ann_patch = \"/Users/svickovi/Desktop/colons_comp/splotch_ann/merged\"\n",
    "    splotch_ann_file = img + '_annotations.txt'\n",
    "    #splotch_ann_file = image_name + '_annotations.txt'\n",
    "    #splotch_ann.to_csv(os.path.join(splotch_ann_patch, splotch_ann_file), index = False, sep = \"\\t\") # uncomment to create new annotation files\n",
    "                                 \n",
    "    # collect data into one df ann\n",
    "    df_anns_all = pd.concat([df_anns_all, splotch_ann])\n",
    "   \n",
    "    # collect a list for checking\n",
    "    anns_all.append(splotch_ann['value'].tolist())    \n",
    "    \n",
    "    # write file used as input into Britta's splotch pre-processing script\n",
    "    # random picking\n",
    "    \n",
    "    l = list()\n",
    "    for n in splotch_ann['value'].tolist():\n",
    "        if (len(n.split(' and ')) > 0):\n",
    "            l.append(random.choice(n.split(' and ')))\n",
    "            \n",
    "    splotch_ann['value'] = l\n",
    "    splotch_ann_patch = \"/Users/svickovi/Desktop/colons_comp/splotch_ann/random\"\n",
    "    #splotch_ann.to_csv(os.path.join(splotch_ann_patch, splotch_ann_file), index = False, sep = \"\\t\") # uncomment if you want random annotaitons files\n",
    "    \n",
    "    #print(\"Last check after merging: \", len(splotch_ann.index))\n",
    "    \n",
    "    # check number of spots lost in merging\n",
    "    if abs(unknowns_length-len(splotch_ann.index)) > 3:\n",
    "        print(img)\n",
    "        print(\"Too many spots lost in merging...\", abs(unknowns_length-len(splotch_ann.index)))\n",
    "    \n",
    "    anns_random.append(splotch_ann['value'].tolist())\n",
    "    \n",
    "    #if counter > 10:\n",
    "    #    break\n",
    "    \n",
    "    counter += 1\n",
    "    \n",
    "#df_anns_all.to_csv(os.path.join(\"/Users/sanjavickovic/Desktop/colons_comp/splotch_ann/\", \"splotch_annotations_merged.tsv\"), index = False, sep = \"\\t\")                          "
   ]
  },
  {
   "cell_type": "code",
   "execution_count": 66,
   "metadata": {
    "scrolled": true
   },
   "outputs": [
    {
     "data": {
      "text/html": [
       "<div>\n",
       "<style scoped>\n",
       "    .dataframe tbody tr th:only-of-type {\n",
       "        vertical-align: middle;\n",
       "    }\n",
       "\n",
       "    .dataframe tbody tr th {\n",
       "        vertical-align: top;\n",
       "    }\n",
       "\n",
       "    .dataframe thead th {\n",
       "        text-align: right;\n",
       "    }\n",
       "</style>\n",
       "<table border=\"1\" class=\"dataframe\">\n",
       "  <thead>\n",
       "    <tr style=\"text-align: right;\">\n",
       "      <th></th>\n",
       "      <th>value</th>\n",
       "    </tr>\n",
       "  </thead>\n",
       "  <tbody>\n",
       "    <tr>\n",
       "      <th>muscularis mucosae and peyer's patch</th>\n",
       "      <td>48</td>\n",
       "    </tr>\n",
       "    <tr>\n",
       "      <th>epithelium and lamina propria and peyer's patch</th>\n",
       "      <td>55</td>\n",
       "    </tr>\n",
       "    <tr>\n",
       "      <th>muscularis mucosae and muscularis propria muscularis interna and peyer's patch</th>\n",
       "      <td>87</td>\n",
       "    </tr>\n",
       "    <tr>\n",
       "      <th>epithelium base of crypt and muscularis mucosae and muscularis propria muscularis interna</th>\n",
       "      <td>90</td>\n",
       "    </tr>\n",
       "    <tr>\n",
       "      <th>peyer's patch</th>\n",
       "      <td>312</td>\n",
       "    </tr>\n",
       "    <tr>\n",
       "      <th>epithelium mid crypt and lamina propria</th>\n",
       "      <td>374</td>\n",
       "    </tr>\n",
       "    <tr>\n",
       "      <th>epithelium base of crypt and lamina propria and muscularis mucosae and muscularis propria muscularis externa and muscularis propria muscularis interna and submucosa all</th>\n",
       "      <td>485</td>\n",
       "    </tr>\n",
       "    <tr>\n",
       "      <th>muscularis mucosae and muscularis propria muscularis externa and muscularis propria muscularis interna</th>\n",
       "      <td>556</td>\n",
       "    </tr>\n",
       "    <tr>\n",
       "      <th>muscularis mucosae and muscularis propria muscularis interna</th>\n",
       "      <td>583</td>\n",
       "    </tr>\n",
       "    <tr>\n",
       "      <th>epithelium base of crypt and epithelium mid crypt and lamina propria</th>\n",
       "      <td>991</td>\n",
       "    </tr>\n",
       "    <tr>\n",
       "      <th>epithelium and lamina propria and muscularis mucosae and submucosa all</th>\n",
       "      <td>1589</td>\n",
       "    </tr>\n",
       "    <tr>\n",
       "      <th>epithelium apex of crypt and lamina propria</th>\n",
       "      <td>1843</td>\n",
       "    </tr>\n",
       "    <tr>\n",
       "      <th>pellet</th>\n",
       "      <td>3398</td>\n",
       "    </tr>\n",
       "    <tr>\n",
       "      <th>muscularis all and submucosa all</th>\n",
       "      <td>3484</td>\n",
       "    </tr>\n",
       "    <tr>\n",
       "      <th>muscularis propria muscularis externa</th>\n",
       "      <td>3653</td>\n",
       "    </tr>\n",
       "    <tr>\n",
       "      <th>muscularis propria muscularis interna</th>\n",
       "      <td>3997</td>\n",
       "    </tr>\n",
       "    <tr>\n",
       "      <th>epithelium and lamina propria and muscularis mucosae</th>\n",
       "      <td>7422</td>\n",
       "    </tr>\n",
       "    <tr>\n",
       "      <th>epithelium and lamina propria and muscularis mucosae and muscularis propria muscularis externa and muscularis propria muscularis interna and submucosa all</th>\n",
       "      <td>9102</td>\n",
       "    </tr>\n",
       "    <tr>\n",
       "      <th>muscularis propria muscularis externa and muscularis propria muscularis interna</th>\n",
       "      <td>10268</td>\n",
       "    </tr>\n",
       "    <tr>\n",
       "      <th>epithelium and lamina propria</th>\n",
       "      <td>36218</td>\n",
       "    </tr>\n",
       "  </tbody>\n",
       "</table>\n",
       "</div>"
      ],
      "text/plain": [
       "                                                                                                                                                                          value\n",
       "muscularis mucosae and peyer's patch                                                                                                                                         48\n",
       "epithelium and lamina propria and peyer's patch                                                                                                                              55\n",
       "muscularis mucosae and muscularis propria muscularis interna and peyer's patch                                                                                               87\n",
       "epithelium base of crypt and muscularis mucosae and muscularis propria muscularis interna                                                                                    90\n",
       "peyer's patch                                                                                                                                                               312\n",
       "epithelium mid crypt and lamina propria                                                                                                                                     374\n",
       "epithelium base of crypt and lamina propria and muscularis mucosae and muscularis propria muscularis externa and muscularis propria muscularis interna and submucosa all    485\n",
       "muscularis mucosae and muscularis propria muscularis externa and muscularis propria muscularis interna                                                                      556\n",
       "muscularis mucosae and muscularis propria muscularis interna                                                                                                                583\n",
       "epithelium base of crypt and epithelium mid crypt and lamina propria                                                                                                        991\n",
       "epithelium and lamina propria and muscularis mucosae and submucosa all                                                                                                     1589\n",
       "epithelium apex of crypt and lamina propria                                                                                                                                1843\n",
       "pellet                                                                                                                                                                     3398\n",
       "muscularis all and submucosa all                                                                                                                                           3484\n",
       "muscularis propria muscularis externa                                                                                                                                      3653\n",
       "muscularis propria muscularis interna                                                                                                                                      3997\n",
       "epithelium and lamina propria and muscularis mucosae                                                                                                                       7422\n",
       "epithelium and lamina propria and muscularis mucosae and muscularis propria muscularis externa and muscularis propria muscularis interna and submucosa all                 9102\n",
       "muscularis propria muscularis externa and muscularis propria muscularis interna                                                                                           10268\n",
       "epithelium and lamina propria                                                                                                                                             36218"
      ]
     },
     "execution_count": 66,
     "metadata": {},
     "output_type": "execute_result"
    }
   ],
   "source": [
    "# list total annotations in the whole dataset as check \n",
    "a = list(itertools.chain.from_iterable(anns_all))\n",
    "df = pd.DataFrame(Counter(a).values(),Counter(a).keys())\n",
    "df.columns = ['value']\n",
    "df.sort_values(by=['value'])"
   ]
  },
  {
   "cell_type": "markdown",
   "metadata": {},
   "source": [
    "Merge cleaned df with cleaned up/manual sanja annotation txt file for final anns"
   ]
  },
  {
   "cell_type": "code",
   "execution_count": 67,
   "metadata": {},
   "outputs": [],
   "source": [
    "sanns = pd.read_csv('/Users/sanjavickovic/Desktop/corrected_annotations.txt', sep = '\\t')\n",
    "sanns.drop_duplicates(inplace = True)\n",
    "sanns = sanns.reset_index(drop=True)\n",
    "df_anns_all['image_x_y'] = [i+\"_\"+j for i,j in zip(df_anns_all['image'], df_anns_all['x_y'])]\n",
    "\n",
    "#merge\n",
    "pd.merge(sanns, df_anns_all, left_on = 'image_x_y', right_on = 'image_x_y')\n",
    "pd_changed = pd.merge(sanns, df_anns_all, left_on = 'image_x_y', right_on = 'image_x_y', how = 'left')\n",
    "pd_changed = pd_changed.drop(pd_changed[pd_changed.image_x_y.str.contains('10015CN91_C1')].index, axis = 0).reset_index(drop=True)\n",
    "pd_unchanged = pd.merge(sanns, df_anns_all, left_on = 'image_x_y', right_on = 'image_x_y', how = 'right')\n",
    "pd_unchanged = pd_unchanged[pd_unchanged.isnull().any(axis=1)].reset_index(drop=True)\n",
    "pd_unchanged['value_x'] = pd_unchanged['value_y']\n",
    "\n",
    "#make new file\n",
    "pd_anns_final = pd.concat([pd_unchanged,pd_changed]).drop(['image_x_y', 'value_y'], axis = 1).reset_index(drop=True).rename(columns={'value_x':'value'})\n",
    "pd_anns_final = pd_anns_final[pd_anns_final['value'] != 'Unknown'].reset_index(drop=True)\n"
   ]
  },
  {
   "cell_type": "markdown",
   "metadata": {},
   "source": [
    "Rename patches to user-friendly version"
   ]
  },
  {
   "cell_type": "code",
   "execution_count": 68,
   "metadata": {},
   "outputs": [],
   "source": [
    "rename_dict = {\"muscularis mucosae and muscularis propria muscularis interna and peyer's patch\":\"mucosae and peyer's patch\",\n",
    "               \"epithelium and peyer's patch\":\"peyer's patch\",\n",
    "                  'epithelium and lamina propria' : 'epithelium',\n",
    "    'epithelium and lamina propria and mucus' : 'epithelium and mucus',\n",
    "    'epithelium and lamina propria and mucus and pellet': 'epithelium and mucus and pellet',\n",
    "    'epithelium and lamina propria and muscularis mucosae' : 'epithelium and mucosae',\n",
    "    'epithelium and lamina propria and muscularis mucosae and muscularis propria muscularis externa and muscularis propria muscularis interna and submucosa all':'epithelium and muscle and submucosa',\n",
    "    'epithelium and lamina propria and muscularis mucosae and submucosa all':'epithelium and mucosae and submucosa',\n",
    "    \"epithelium and lamina propria and peyer's patch\" : \"peyer's patch\",\n",
    "    'epithelium apex of crypt and lamina propria' : 'crypt apex',\n",
    "    'epithelium base of crypt and epithelium mid crypt and lamina propria' : 'crypt base and mid',\n",
    "    'epithelium base of crypt and lamina propria' : 'crypt base',\n",
    "    'epithelium base of crypt and lamina propria and muscularis mucosae and muscularis propria muscularis externa and muscularis propria muscularis interna and submucosa all' : 'crypt base',\n",
    "    'epithelium base of crypt and muscularis mucosae and muscularis propria muscularis interna': 'crypt base',\n",
    "    'epithelium mid crypt and lamina propria' : 'crypt mid',\n",
    "    'mucus and pellet' : 'mucus and pellet',\n",
    "    'muscularis all and submucosa all' : 'muscle and submucosa',\n",
    "    'muscularis mucosae and muscularis propria muscularis externa and muscularis propria muscularis interna' : 'muscle and submucosa',\n",
    "    'muscularis mucosae and muscularis propria muscularis interna' : 'mucosae and interna',\n",
    "    \"muscularis mucosae and muscularis propria muscularis interna and peyer's patch\" : \"peyer's patch\",\n",
    "    \"muscularis mucosae and peyer's patch\" : \"peyer's patch\",\n",
    "    'muscularis propria muscularis externa' : 'externa',\n",
    "    'muscularis propria muscularis externa and muscularis propria muscularis interna':'externa and interna',\n",
    "    'muscularis propria muscularis interna':'interna',\n",
    "    'muscularis propria muscularis externa and muscularis propria muscularis interna and muscularis mucosae and submucosa all' : 'muscle and submucosa',\n",
    "    'pellet':'pellet',\n",
    "    \"peyer's patch\":\"peyer's patch\",\n",
    "    \"Rest\": \"rest\"}\n",
    "\n"
   ]
  },
  {
   "cell_type": "code",
   "execution_count": 69,
   "metadata": {},
   "outputs": [
    {
     "data": {
      "text/plain": [
       "array(['crypt apex', 'crypt base', 'crypt base and mid', 'crypt mid',\n",
       "       'epithelium', 'epithelium and mucosae',\n",
       "       'epithelium and mucosae and submucosa', 'epithelium and mucus',\n",
       "       'epithelium and mucus and pellet',\n",
       "       'epithelium and muscle and submucosa', 'externa',\n",
       "       'externa and interna', 'interna', 'mucosae and interna',\n",
       "       'mucus and pellet', 'muscle and submucosa', 'pellet',\n",
       "       \"peyer's patch\", 'rest'], dtype='<U36')"
      ]
     },
     "execution_count": 69,
     "metadata": {},
     "output_type": "execute_result"
    }
   ],
   "source": [
    "import numpy as np\n",
    "np.unique(list(rename_dict.values()))"
   ]
  },
  {
   "cell_type": "code",
   "execution_count": 70,
   "metadata": {},
   "outputs": [],
   "source": [
    "#rename dict check\n",
    "pd_anns_final['value'] = pd_anns_final['value'].map(rename_dict)\n",
    "#pd_anns_final.to_csv(os.path.join(\"/Users/sanjavickovic/Desktop/colons_comp/splotch_ann/\", \"splotch_annotations_merged.tsv\"), index = False, sep = \"\\t\")       "
   ]
  },
  {
   "cell_type": "code",
   "execution_count": 71,
   "metadata": {},
   "outputs": [
    {
     "data": {
      "text/plain": [
       "value                               \n",
       "epithelium                              35249\n",
       "externa and interna                     10714\n",
       "epithelium and muscle and submucosa      9119\n",
       "epithelium and mucosae                   6874\n",
       "muscle and submucosa                     3864\n",
       "interna                                  3562\n",
       "pellet                                   3395\n",
       "externa                                  2964\n",
       "crypt apex                               2226\n",
       "epithelium and mucosae and submucosa     1493\n",
       "crypt base and mid                       1420\n",
       "mucosae and interna                      1341\n",
       "crypt mid                                 914\n",
       "crypt base                                655\n",
       "peyer's patch                             498\n",
       "dtype: int64"
      ]
     },
     "execution_count": 71,
     "metadata": {},
     "output_type": "execute_result"
    }
   ],
   "source": [
    "pd_anns_final[['value']].value_counts()"
   ]
  },
  {
   "cell_type": "markdown",
   "metadata": {},
   "source": [
    "Output all final ann splotch files"
   ]
  },
  {
   "cell_type": "code",
   "execution_count": 72,
   "metadata": {},
   "outputs": [],
   "source": [
    "imgs_dfs = np.unique(list(pd_anns_final['image']))\n",
    "for image_name in imgs_dfs:\n",
    "    \n",
    "    # write file used as input into Britta's splotch pre-processing script\n",
    "    splotch_ann_patch = \"/Users/sanjavickovic/Desktop/colons_comp/splotch_ann/merged/jan5\" #output dir\n",
    "    splotch_ann_file = image_name + '_annotations.txt'\n",
    "    anns_small = pd_anns_final[pd_anns_final['image'] == image_name].reset_index(drop=True)\n",
    "    anns_small.to_csv(os.path.join(splotch_ann_patch, splotch_ann_file), index = False, sep = \"\\t\") # uncomment to output files\n"
   ]
  },
  {
   "cell_type": "code",
   "execution_count": 54,
   "metadata": {},
   "outputs": [
    {
     "data": {
      "text/plain": [
       "value           \n",
       "pellet              464\n",
       "peyer's patch       444\n",
       "mucus and pellet     29\n",
       "dtype: int64"
      ]
     },
     "execution_count": 54,
     "metadata": {},
     "output_type": "execute_result"
    }
   ],
   "source": [
    "pd_anns_final[['value']].value_counts()"
   ]
  },
  {
   "cell_type": "code",
   "execution_count": 11,
   "metadata": {},
   "outputs": [
    {
     "data": {
      "text/plain": [
       "'10005CN13_C1'"
      ]
     },
     "execution_count": 11,
     "metadata": {},
     "output_type": "execute_result"
    }
   ],
   "source": [
    "img"
   ]
  },
  {
   "cell_type": "code",
   "execution_count": null,
   "metadata": {},
   "outputs": [],
   "source": []
  }
 ],
 "metadata": {
  "kernelspec": {
   "display_name": "Python 3 (ipykernel)",
   "language": "python",
   "name": "python3"
  },
  "language_info": {
   "codemirror_mode": {
    "name": "ipython",
    "version": 3
   },
   "file_extension": ".py",
   "mimetype": "text/x-python",
   "name": "python",
   "nbconvert_exporter": "python",
   "pygments_lexer": "ipython3",
   "version": "3.8.13"
  }
 },
 "nbformat": 4,
 "nbformat_minor": 4
}
