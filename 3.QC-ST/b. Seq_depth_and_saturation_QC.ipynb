{
 "cells": [
  {
   "cell_type": "markdown",
   "metadata": {},
   "source": [
    "### Gathers info from ST pipeline logs"
   ]
  },
  {
   "cell_type": "code",
   "execution_count": 1,
   "metadata": {},
   "outputs": [],
   "source": [
    "import os\n",
    "import sys\n",
    "import glob\n",
    "import scanpy as sc\n",
    "import numpy as np\n",
    "import pandas as pd"
   ]
  },
  {
   "cell_type": "markdown",
   "metadata": {},
   "source": [
    "### Reads in all pipeline logs file names from GCP"
   ]
  },
  {
   "cell_type": "code",
   "execution_count": 5,
   "metadata": {},
   "outputs": [],
   "source": [
    "pipelines_path = '/home/sanjavickovic/data/host-microbiome_data/st_data/pipeline_logs'\n",
    "files_done = [i for i in os.listdir(pipelines_path)] #check if any files already created"
   ]
  },
  {
   "cell_type": "markdown",
   "metadata": {},
   "source": [
    "### Gets seq reads data, annotation and UMI counts"
   ]
  },
  {
   "cell_type": "code",
   "execution_count": 7,
   "metadata": {
    "scrolled": false
   },
   "outputs": [],
   "source": [
    "reads_all = []\n",
    "umis_all = []\n",
    "annotations_all = []\n",
    "for sam in files_done:\n",
    "    # read in pipeline file\n",
    "    path = os.path.join(pipelines_path,sam)\n",
    "    df = pd.read_csv(path, error_bad_lines=False, header = None)\n",
    "\n",
    "    # collect data from file\n",
    "    reads = df.loc[df.loc[:, 0].str.contains('INFO:STPipeline:Trimming stats total reads (pair):', regex=False), :][0].tolist()[0].split(\"INFO:STPipeline:Trimming stats total reads (pair): \")[1]\n",
    "    annotations = df.loc[df.loc[:, 0].str.contains('INFO:STPipeline:Annotated reads:', regex=False), :][0].tolist()[0].split(\"INFO:STPipeline:Annotated reads: \")[1]\n",
    "    umis = df.loc[df.loc[:, 0].str.contains('INFO:STPipeline:Number of unique molecules present:', regex=False), :][0].tolist()[0].split(\"INFO:STPipeline:Number of unique molecules present: \")[1]\n",
    "    reads_all.append(reads)\n",
    "    umis_all.append(umis)\n",
    "    annotations_all.append(annotations)\n"
   ]
  },
  {
   "cell_type": "code",
   "execution_count": 8,
   "metadata": {},
   "outputs": [],
   "source": [
    "df_all = pd.DataFrame([reads_all, annotations_all, umis_all]).T"
   ]
  },
  {
   "cell_type": "code",
   "execution_count": 9,
   "metadata": {},
   "outputs": [],
   "source": [
    "df_all = df_all.astype('int')"
   ]
  },
  {
   "cell_type": "code",
   "execution_count": 10,
   "metadata": {},
   "outputs": [],
   "source": [
    "df_all.columns = ['reads', 'ann', 'umis']"
   ]
  },
  {
   "cell_type": "code",
   "execution_count": 11,
   "metadata": {},
   "outputs": [],
   "source": [
    "df_all['saturation'] = 100*(1-df_all['umis']/df_all['ann'])"
   ]
  },
  {
   "cell_type": "code",
   "execution_count": 12,
   "metadata": {},
   "outputs": [
    {
     "data": {
      "text/plain": [
       "66305792.65"
      ]
     },
     "execution_count": 12,
     "metadata": {},
     "output_type": "execute_result"
    }
   ],
   "source": [
    "df_all['reads'].mean()"
   ]
  },
  {
   "cell_type": "code",
   "execution_count": 13,
   "metadata": {},
   "outputs": [
    {
     "data": {
      "text/plain": [
       "70.17498868427836"
      ]
     },
     "execution_count": 13,
     "metadata": {},
     "output_type": "execute_result"
    }
   ],
   "source": [
    "df_all['saturation'].mean()"
   ]
  },
  {
   "cell_type": "code",
   "execution_count": null,
   "metadata": {},
   "outputs": [],
   "source": []
  }
 ],
 "metadata": {
  "kernelspec": {
   "display_name": "Python 3",
   "language": "python",
   "name": "python3"
  },
  "language_info": {
   "codemirror_mode": {
    "name": "ipython",
    "version": 3
   },
   "file_extension": ".py",
   "mimetype": "text/x-python",
   "name": "python",
   "nbconvert_exporter": "python",
   "pygments_lexer": "ipython3",
   "version": "3.7.8"
  }
 },
 "nbformat": 4,
 "nbformat_minor": 2
}
