{
 "cells": [
  {
   "cell_type": "markdown",
   "metadata": {},
   "source": [
    "### Check whether all MROIs in all svgs tissue rasters exist"
   ]
  },
  {
   "cell_type": "code",
   "execution_count": 1,
   "metadata": {},
   "outputs": [],
   "source": [
    "# reads in svg file\n",
    "from svgpathtools import svg2paths\n",
    "import scanpy as sc\n",
    "import numpy as np\n",
    "import os\n",
    "raster_path = \"/home/sanjavickovic/data/rasters/svgs\""
   ]
  },
  {
   "cell_type": "markdown",
   "metadata": {},
   "source": [
    "Read in ST data"
   ]
  },
  {
   "cell_type": "code",
   "execution_count": 2,
   "metadata": {},
   "outputs": [],
   "source": [
    "st_data = sc.read_h5ad('/home/sanjavickovic/data/st_data/anndata_colons_norm_all_degenes_Nov2021.h5ad')"
   ]
  },
  {
   "cell_type": "code",
   "execution_count": 9,
   "metadata": {},
   "outputs": [
    {
     "data": {
      "text/plain": [
       "array(['crypt apex', 'crypt base', 'crypt base and mid', 'crypt mid',\n",
       "       'epithelium', 'epithelium and mucosae',\n",
       "       'epithelium and mucosae and submucosa',\n",
       "       'epithelium and muscle and submucosa', 'externa',\n",
       "       'externa and interna', 'interna', 'mucosae and interna',\n",
       "       'muscle and submucosa', \"peyer's patch\"], dtype=object)"
      ]
     },
     "execution_count": 9,
     "metadata": {},
     "output_type": "execute_result"
    }
   ],
   "source": [
    "np.unique(st_data.obs.groupby([\"Age\", \"Region\", \"annotation\"], as_index=False).sum().annotation)"
   ]
  },
  {
   "cell_type": "code",
   "execution_count": 3,
   "metadata": {},
   "outputs": [],
   "source": [
    "check_anndata = st_data.obs.groupby([\"Age\", \"Region\", \"annotation\"], as_index=False).sum()"
   ]
  },
  {
   "cell_type": "markdown",
   "metadata": {},
   "source": [
    "Check MROIs intersect per Age and Region"
   ]
  },
  {
   "cell_type": "code",
   "execution_count": 34,
   "metadata": {},
   "outputs": [
    {
     "name": "stdout",
     "output_type": "stream",
     "text": [
      "all rasters ready for plotting...\n"
     ]
    }
   ],
   "source": [
    "counter = 0\n",
    "for age in np.unique(check_anndata.Age):\n",
    "    for region in np.unique(check_anndata.Region):\n",
    "        anndata_anns = check_anndata[(check_anndata.Age == age) & (check_anndata.Region == region)].dropna().annotation.tolist()+['None']+['empty']\n",
    "        anndata_anns = anndata_anns[anndata_anns != 'mucosae and interna']\n",
    "        raster_img = region+\"_\"+age+\".svg\"\n",
    "        paths, attributes = svg2paths(os.path.join(raster_path, raster_img))\n",
    "        svg_anns = [str(i.get(\"id\")).replace(\"_\", \" \") for i in attributes]\n",
    "        if len(np.setdiff1d(anndata_anns,svg_anns))>0:\n",
    "            counter = 1\n",
    "            print(age, region)\n",
    "            print(np.setdiff1d(anndata_anns,svg_anns))\n",
    "if counter != 1:\n",
    "    print(\"all rasters ready for plotting...\")\n",
    "        "
   ]
  },
  {
   "cell_type": "code",
   "execution_count": null,
   "metadata": {},
   "outputs": [],
   "source": []
  }
 ],
 "metadata": {
  "kernelspec": {
   "display_name": "Python 3",
   "language": "python",
   "name": "python3"
  },
  "language_info": {
   "codemirror_mode": {
    "name": "ipython",
    "version": 3
   },
   "file_extension": ".py",
   "mimetype": "text/x-python",
   "name": "python",
   "nbconvert_exporter": "python",
   "pygments_lexer": "ipython3",
   "version": "3.7.8"
  }
 },
 "nbformat": 4,
 "nbformat_minor": 4
}
